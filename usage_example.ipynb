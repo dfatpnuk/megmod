{
 "cells": [
  {
   "cell_type": "markdown",
   "metadata": {},
   "source": [
    "# Usage Example\n",
    "\n",
    "In this notebook, We will show the usage of the **GANBLR** models.\n",
    "\n",
    "Currently, the following ganblr models are available in this package:\n",
    "\n",
    "- GANBLR\n",
    "- GANBLR++\n"
   ]
  },
  {
   "cell_type": "markdown",
   "metadata": {},
   "source": [
    "## 1. GANBLR"
   ]
  },
  {
   "cell_type": "markdown",
   "metadata": {},
   "source": [
    "### 1.1. Load the data\n",
    "\n",
    "The first step is to get the data we will use. For `GANBLR`, the data must be discrete. \n",
    "\n",
    "In this case, with the built-in `get_demo_data` method, we can get the discrete `adult` data in the format of `pandas.DataFrame`."
   ]
  },
  {
   "cell_type": "code",
   "execution_count": 1,
   "metadata": {},
   "outputs": [
    {
     "data": {
      "text/html": [
       "<div>\n",
       "<style scoped>\n",
       "    .dataframe tbody tr th:only-of-type {\n",
       "        vertical-align: middle;\n",
       "    }\n",
       "\n",
       "    .dataframe tbody tr th {\n",
       "        vertical-align: top;\n",
       "    }\n",
       "\n",
       "    .dataframe thead th {\n",
       "        text-align: right;\n",
       "    }\n",
       "</style>\n",
       "<table border=\"1\" class=\"dataframe\">\n",
       "  <thead>\n",
       "    <tr style=\"text-align: right;\">\n",
       "      <th></th>\n",
       "      <th>age</th>\n",
       "      <th>workclass</th>\n",
       "      <th>fnlwgt</th>\n",
       "      <th>education</th>\n",
       "      <th>education-num</th>\n",
       "      <th>marital-status</th>\n",
       "      <th>occupation</th>\n",
       "      <th>relationship</th>\n",
       "      <th>race</th>\n",
       "      <th>sex</th>\n",
       "      <th>capital-gain</th>\n",
       "      <th>capital-loss</th>\n",
       "      <th>hours-per-week</th>\n",
       "      <th>native-country</th>\n",
       "      <th>class</th>\n",
       "    </tr>\n",
       "  </thead>\n",
       "  <tbody>\n",
       "    <tr>\n",
       "      <th>0</th>\n",
       "      <td>6</td>\n",
       "      <td>7</td>\n",
       "      <td>0</td>\n",
       "      <td>9</td>\n",
       "      <td>2</td>\n",
       "      <td>4</td>\n",
       "      <td>1</td>\n",
       "      <td>1</td>\n",
       "      <td>4</td>\n",
       "      <td>1</td>\n",
       "      <td>13</td>\n",
       "      <td>0</td>\n",
       "      <td>2</td>\n",
       "      <td>39</td>\n",
       "      <td>0</td>\n",
       "    </tr>\n",
       "    <tr>\n",
       "      <th>1</th>\n",
       "      <td>7</td>\n",
       "      <td>6</td>\n",
       "      <td>0</td>\n",
       "      <td>9</td>\n",
       "      <td>2</td>\n",
       "      <td>2</td>\n",
       "      <td>4</td>\n",
       "      <td>0</td>\n",
       "      <td>4</td>\n",
       "      <td>1</td>\n",
       "      <td>0</td>\n",
       "      <td>0</td>\n",
       "      <td>0</td>\n",
       "      <td>39</td>\n",
       "      <td>0</td>\n",
       "    </tr>\n",
       "    <tr>\n",
       "      <th>2</th>\n",
       "      <td>6</td>\n",
       "      <td>4</td>\n",
       "      <td>0</td>\n",
       "      <td>11</td>\n",
       "      <td>5</td>\n",
       "      <td>0</td>\n",
       "      <td>6</td>\n",
       "      <td>1</td>\n",
       "      <td>4</td>\n",
       "      <td>1</td>\n",
       "      <td>0</td>\n",
       "      <td>0</td>\n",
       "      <td>2</td>\n",
       "      <td>39</td>\n",
       "      <td>0</td>\n",
       "    </tr>\n",
       "    <tr>\n",
       "      <th>3</th>\n",
       "      <td>7</td>\n",
       "      <td>4</td>\n",
       "      <td>0</td>\n",
       "      <td>1</td>\n",
       "      <td>0</td>\n",
       "      <td>2</td>\n",
       "      <td>6</td>\n",
       "      <td>0</td>\n",
       "      <td>2</td>\n",
       "      <td>1</td>\n",
       "      <td>0</td>\n",
       "      <td>0</td>\n",
       "      <td>2</td>\n",
       "      <td>39</td>\n",
       "      <td>0</td>\n",
       "    </tr>\n",
       "    <tr>\n",
       "      <th>4</th>\n",
       "      <td>4</td>\n",
       "      <td>4</td>\n",
       "      <td>0</td>\n",
       "      <td>9</td>\n",
       "      <td>2</td>\n",
       "      <td>2</td>\n",
       "      <td>10</td>\n",
       "      <td>5</td>\n",
       "      <td>2</td>\n",
       "      <td>0</td>\n",
       "      <td>0</td>\n",
       "      <td>0</td>\n",
       "      <td>2</td>\n",
       "      <td>5</td>\n",
       "      <td>0</td>\n",
       "    </tr>\n",
       "  </tbody>\n",
       "</table>\n",
       "</div>"
      ],
      "text/plain": [
       "   age  workclass  fnlwgt  education  education-num  marital-status  \\\n",
       "0    6          7       0          9              2               4   \n",
       "1    7          6       0          9              2               2   \n",
       "2    6          4       0         11              5               0   \n",
       "3    7          4       0          1              0               2   \n",
       "4    4          4       0          9              2               2   \n",
       "\n",
       "   occupation  relationship  race  sex  capital-gain  capital-loss  \\\n",
       "0           1             1     4    1            13             0   \n",
       "1           4             0     4    1             0             0   \n",
       "2           6             1     4    1             0             0   \n",
       "3           6             0     2    1             0             0   \n",
       "4          10             5     2    0             0             0   \n",
       "\n",
       "   hours-per-week  native-country  class  \n",
       "0               2              39      0  \n",
       "1               0              39      0  \n",
       "2               2              39      0  \n",
       "3               2              39      0  \n",
       "4               2               5      0  "
      ]
     },
     "execution_count": 1,
     "metadata": {},
     "output_type": "execute_result"
    }
   ],
   "source": [
    "from ganblr.utils import get_demo_data\n",
    "\n",
    "df = get_demo_data('adult')\n",
    "df.head()"
   ]
  },
  {
   "cell_type": "markdown",
   "metadata": {},
   "source": [
    "### 1.2. Train the GANBLR Model\n",
    "\n",
    "Next, we will use `sklearn.model_selection.train_test_split` to split the data into training and test sets, then fit the training set into the `GANBLR` model in order to train the model.\n",
    "\n",
    "Note that the `GANBLR` class has build-in `sklearn.preprocessing.OrdinalEncoder` and `sklearn.preprocessing.LabelEncoder` to convert the data format."
   ]
  },
  {
   "cell_type": "code",
   "execution_count": 2,
   "metadata": {},
   "outputs": [],
   "source": [
    "from sklearn.preprocessing import OrdinalEncoder\n",
    "from sklearn.model_selection import train_test_split\n",
    "\n",
    "x, y = df.iloc[:,:-1], df.iloc[:,-1]\n",
    "X_train, X_test, y_train, y_test = train_test_split(x, y, test_size=0.5)"
   ]
  },
  {
   "cell_type": "code",
   "execution_count": 3,
   "metadata": {},
   "outputs": [
    {
     "name": "stdout",
     "output_type": "stream",
     "text": [
      "Training shape: (24421, 14) (24421,)\n",
      "Test shape: (24421, 14) (24421,)\n"
     ]
    }
   ],
   "source": [
    "print(\"Training shape:\", X_train.shape, y_train.shape)\n",
    "print(\"Test shape:\", X_test.shape, y_test.shape)"
   ]
  },
  {
   "cell_type": "code",
   "execution_count": 30,
   "metadata": {},
   "outputs": [
    {
     "data": {
      "text/plain": [
       "'0.123457'"
      ]
     },
     "execution_count": 30,
     "metadata": {},
     "output_type": "execute_result"
    }
   ],
   "source": [
    "f'{0.1234567:.6f}'"
   ]
  },
  {
   "cell_type": "code",
   "execution_count": 4,
   "metadata": {},
   "outputs": [
    {
     "name": "stdout",
     "output_type": "stream",
     "text": [
      "warmup run:\n",
      "382/382 [==============================] - 2s 805us/step - loss: 0.4122 - accuracy: 0.8240\n",
      "Epoch 1/10: G_loss = 4.58913516998291, G_accuracy = 0.8543057441711426, D_loss = 0.4685502052307129, D_accuracy = 0.8620274662971497\n",
      "Epoch 2/10: G_loss = 2.933922052383423, G_accuracy = 0.8625773191452026, D_loss = 2.430967330932617, D_accuracy = 0.648273766040802\n",
      "Epoch 3/10: G_loss = 2.145524501800537, G_accuracy = 0.8656893372535706, D_loss = 2.1573619842529297, D_accuracy = 0.5535280108451843\n",
      "Epoch 4/10: G_loss = 3.6396114826202393, G_accuracy = 0.8678186535835266, D_loss = 3.219583034515381, D_accuracy = 0.5890768766403198\n",
      "Epoch 5/10: G_loss = 2.9528706073760986, G_accuracy = 0.8692927956581116, D_loss = 1.330764651298523, D_accuracy = 0.6770915985107422\n",
      "Epoch 6/10: G_loss = 2.9507458209991455, G_accuracy = 0.8715859055519104, D_loss = 0.9282518029212952, D_accuracy = 0.7218539714813232\n",
      "Epoch 7/10: G_loss = 2.4131100177764893, G_accuracy = 0.8710945248603821, D_loss = 3.151639461517334, D_accuracy = 0.5258618593215942\n",
      "Epoch 8/10: G_loss = 2.853835344314575, G_accuracy = 0.8724048733711243, D_loss = 1.1175493001937866, D_accuracy = 0.6391881704330444\n",
      "Epoch 9/10: G_loss = 4.482630729675293, G_accuracy = 0.872036337852478, D_loss = 0.9294821619987488, D_accuracy = 0.8167020678520203\n",
      "Epoch 10/10: G_loss = 3.3350837230682373, G_accuracy = 0.8719953894615173, D_loss = 0.5410001873970032, D_accuracy = 0.8192101716995239\n"
     ]
    },
    {
     "data": {
      "text/plain": [
       "<ganblr.models.ganblr.GANBLR at 0x210cdfde790>"
      ]
     },
     "execution_count": 4,
     "metadata": {},
     "output_type": "execute_result"
    }
   ],
   "source": [
    "from ganblr import GANBLR\n",
    "model = GANBLR()\n",
    "model.fit(X_train, y_train, k = 0, epochs = 10, batch_size=64)"
   ]
  },
  {
   "cell_type": "markdown",
   "metadata": {},
   "source": [
    "### 1.3. Generate the synthetic data\n",
    "\n",
    "Once the model is ready, we can use `GANBLR.sample` method to sample some synthetic data.\n",
    "\n",
    "We can use the `size` parameter to specify the number of samples we want to generate. If we do not specify, it will generate the same number as the training data."
   ]
  },
  {
   "cell_type": "code",
   "execution_count": 5,
   "metadata": {},
   "outputs": [
    {
     "data": {
      "application/vnd.jupyter.widget-view+json": {
       "model_id": "e8cb4a400dda43fba34fec3d9f4eb540",
       "version_major": 2,
       "version_minor": 0
      },
      "text/plain": [
       "  0%|          | 0/15 [00:00<?, ?it/s]"
      ]
     },
     "metadata": {},
     "output_type": "display_data"
    }
   ],
   "source": [
    "size = 1000\n",
    "\n",
    "syn_data = model.sample(size)"
   ]
  },
  {
   "cell_type": "code",
   "execution_count": 6,
   "metadata": {},
   "outputs": [
    {
     "name": "stdout",
     "output_type": "stream",
     "text": [
      "<class 'numpy.ndarray'>, (1000, 15)\n"
     ]
    }
   ],
   "source": [
    "print(f\"{type(syn_data)}, {syn_data.shape}\")"
   ]
  },
  {
   "cell_type": "code",
   "execution_count": 7,
   "metadata": {},
   "outputs": [
    {
     "data": {
      "text/html": [
       "<div>\n",
       "<style scoped>\n",
       "    .dataframe tbody tr th:only-of-type {\n",
       "        vertical-align: middle;\n",
       "    }\n",
       "\n",
       "    .dataframe tbody tr th {\n",
       "        vertical-align: top;\n",
       "    }\n",
       "\n",
       "    .dataframe thead th {\n",
       "        text-align: right;\n",
       "    }\n",
       "</style>\n",
       "<table border=\"1\" class=\"dataframe\">\n",
       "  <thead>\n",
       "    <tr style=\"text-align: right;\">\n",
       "      <th></th>\n",
       "      <th>age</th>\n",
       "      <th>workclass</th>\n",
       "      <th>fnlwgt</th>\n",
       "      <th>education</th>\n",
       "      <th>education-num</th>\n",
       "      <th>marital-status</th>\n",
       "      <th>occupation</th>\n",
       "      <th>relationship</th>\n",
       "      <th>race</th>\n",
       "      <th>sex</th>\n",
       "      <th>capital-gain</th>\n",
       "      <th>capital-loss</th>\n",
       "      <th>hours-per-week</th>\n",
       "      <th>native-country</th>\n",
       "      <th>class</th>\n",
       "    </tr>\n",
       "  </thead>\n",
       "  <tbody>\n",
       "    <tr>\n",
       "      <th>0</th>\n",
       "      <td>7</td>\n",
       "      <td>5</td>\n",
       "      <td>0</td>\n",
       "      <td>7</td>\n",
       "      <td>2</td>\n",
       "      <td>1</td>\n",
       "      <td>5</td>\n",
       "      <td>3</td>\n",
       "      <td>1</td>\n",
       "      <td>1</td>\n",
       "      <td>1</td>\n",
       "      <td>20</td>\n",
       "      <td>5</td>\n",
       "      <td>9</td>\n",
       "      <td>1</td>\n",
       "    </tr>\n",
       "    <tr>\n",
       "      <th>1</th>\n",
       "      <td>10</td>\n",
       "      <td>8</td>\n",
       "      <td>0</td>\n",
       "      <td>15</td>\n",
       "      <td>6</td>\n",
       "      <td>2</td>\n",
       "      <td>5</td>\n",
       "      <td>1</td>\n",
       "      <td>2</td>\n",
       "      <td>0</td>\n",
       "      <td>2</td>\n",
       "      <td>13</td>\n",
       "      <td>1</td>\n",
       "      <td>5</td>\n",
       "      <td>0</td>\n",
       "    </tr>\n",
       "    <tr>\n",
       "      <th>2</th>\n",
       "      <td>0</td>\n",
       "      <td>7</td>\n",
       "      <td>0</td>\n",
       "      <td>5</td>\n",
       "      <td>4</td>\n",
       "      <td>1</td>\n",
       "      <td>13</td>\n",
       "      <td>4</td>\n",
       "      <td>3</td>\n",
       "      <td>0</td>\n",
       "      <td>12</td>\n",
       "      <td>12</td>\n",
       "      <td>0</td>\n",
       "      <td>37</td>\n",
       "      <td>1</td>\n",
       "    </tr>\n",
       "    <tr>\n",
       "      <th>3</th>\n",
       "      <td>1</td>\n",
       "      <td>1</td>\n",
       "      <td>0</td>\n",
       "      <td>8</td>\n",
       "      <td>2</td>\n",
       "      <td>0</td>\n",
       "      <td>5</td>\n",
       "      <td>1</td>\n",
       "      <td>0</td>\n",
       "      <td>1</td>\n",
       "      <td>8</td>\n",
       "      <td>11</td>\n",
       "      <td>2</td>\n",
       "      <td>33</td>\n",
       "      <td>0</td>\n",
       "    </tr>\n",
       "    <tr>\n",
       "      <th>4</th>\n",
       "      <td>0</td>\n",
       "      <td>3</td>\n",
       "      <td>0</td>\n",
       "      <td>3</td>\n",
       "      <td>3</td>\n",
       "      <td>4</td>\n",
       "      <td>13</td>\n",
       "      <td>0</td>\n",
       "      <td>1</td>\n",
       "      <td>0</td>\n",
       "      <td>8</td>\n",
       "      <td>10</td>\n",
       "      <td>0</td>\n",
       "      <td>35</td>\n",
       "      <td>0</td>\n",
       "    </tr>\n",
       "    <tr>\n",
       "      <th>5</th>\n",
       "      <td>0</td>\n",
       "      <td>6</td>\n",
       "      <td>0</td>\n",
       "      <td>0</td>\n",
       "      <td>6</td>\n",
       "      <td>0</td>\n",
       "      <td>8</td>\n",
       "      <td>3</td>\n",
       "      <td>3</td>\n",
       "      <td>0</td>\n",
       "      <td>2</td>\n",
       "      <td>11</td>\n",
       "      <td>0</td>\n",
       "      <td>32</td>\n",
       "      <td>0</td>\n",
       "    </tr>\n",
       "    <tr>\n",
       "      <th>6</th>\n",
       "      <td>1</td>\n",
       "      <td>2</td>\n",
       "      <td>0</td>\n",
       "      <td>0</td>\n",
       "      <td>1</td>\n",
       "      <td>4</td>\n",
       "      <td>14</td>\n",
       "      <td>4</td>\n",
       "      <td>1</td>\n",
       "      <td>1</td>\n",
       "      <td>5</td>\n",
       "      <td>11</td>\n",
       "      <td>3</td>\n",
       "      <td>35</td>\n",
       "      <td>0</td>\n",
       "    </tr>\n",
       "    <tr>\n",
       "      <th>7</th>\n",
       "      <td>6</td>\n",
       "      <td>0</td>\n",
       "      <td>0</td>\n",
       "      <td>0</td>\n",
       "      <td>0</td>\n",
       "      <td>1</td>\n",
       "      <td>11</td>\n",
       "      <td>5</td>\n",
       "      <td>2</td>\n",
       "      <td>0</td>\n",
       "      <td>9</td>\n",
       "      <td>17</td>\n",
       "      <td>1</td>\n",
       "      <td>3</td>\n",
       "      <td>1</td>\n",
       "    </tr>\n",
       "    <tr>\n",
       "      <th>8</th>\n",
       "      <td>1</td>\n",
       "      <td>8</td>\n",
       "      <td>0</td>\n",
       "      <td>3</td>\n",
       "      <td>6</td>\n",
       "      <td>1</td>\n",
       "      <td>0</td>\n",
       "      <td>5</td>\n",
       "      <td>2</td>\n",
       "      <td>0</td>\n",
       "      <td>4</td>\n",
       "      <td>19</td>\n",
       "      <td>1</td>\n",
       "      <td>16</td>\n",
       "      <td>0</td>\n",
       "    </tr>\n",
       "    <tr>\n",
       "      <th>9</th>\n",
       "      <td>5</td>\n",
       "      <td>1</td>\n",
       "      <td>0</td>\n",
       "      <td>13</td>\n",
       "      <td>2</td>\n",
       "      <td>0</td>\n",
       "      <td>1</td>\n",
       "      <td>4</td>\n",
       "      <td>3</td>\n",
       "      <td>0</td>\n",
       "      <td>0</td>\n",
       "      <td>8</td>\n",
       "      <td>5</td>\n",
       "      <td>27</td>\n",
       "      <td>0</td>\n",
       "    </tr>\n",
       "  </tbody>\n",
       "</table>\n",
       "</div>"
      ],
      "text/plain": [
       "  age workclass fnlwgt education education-num marital-status occupation  \\\n",
       "0   7         5      0         7             2              1          5   \n",
       "1  10         8      0        15             6              2          5   \n",
       "2   0         7      0         5             4              1         13   \n",
       "3   1         1      0         8             2              0          5   \n",
       "4   0         3      0         3             3              4         13   \n",
       "5   0         6      0         0             6              0          8   \n",
       "6   1         2      0         0             1              4         14   \n",
       "7   6         0      0         0             0              1         11   \n",
       "8   1         8      0         3             6              1          0   \n",
       "9   5         1      0        13             2              0          1   \n",
       "\n",
       "  relationship race sex capital-gain capital-loss hours-per-week  \\\n",
       "0            3    1   1            1           20              5   \n",
       "1            1    2   0            2           13              1   \n",
       "2            4    3   0           12           12              0   \n",
       "3            1    0   1            8           11              2   \n",
       "4            0    1   0            8           10              0   \n",
       "5            3    3   0            2           11              0   \n",
       "6            4    1   1            5           11              3   \n",
       "7            5    2   0            9           17              1   \n",
       "8            5    2   0            4           19              1   \n",
       "9            4    3   0            0            8              5   \n",
       "\n",
       "  native-country class  \n",
       "0              9     1  \n",
       "1              5     0  \n",
       "2             37     1  \n",
       "3             33     0  \n",
       "4             35     0  \n",
       "5             32     0  \n",
       "6             35     0  \n",
       "7              3     1  \n",
       "8             16     0  \n",
       "9             27     0  "
      ]
     },
     "execution_count": 7,
     "metadata": {},
     "output_type": "execute_result"
    }
   ],
   "source": [
    "import pandas as pd\n",
    "pd.DataFrame(data = syn_data, columns=df.columns).head(10)"
   ]
  },
  {
   "cell_type": "markdown",
   "metadata": {},
   "source": [
    "### 1.4. TSTR evaluation\n",
    "\n",
    "Finally, as we did in our paper, we will perform a simple TSTR(Train on Synthetic, Test on Real) evaluation to demonstrate the performance of our generated data.\n",
    "\n",
    "We will evaluate on three models from sklearn, `LogisticRegression`, `RandomForest`, and `MLPClassifier`. \n",
    "\n",
    "TRTR(Train on Real, Test on Real) will be used as the baseline for comparison."
   ]
  },
  {
   "cell_type": "code",
   "execution_count": 8,
   "metadata": {},
   "outputs": [
    {
     "data": {
      "application/vnd.jupyter.widget-view+json": {
       "model_id": "1c3135635d114128859ae10bf7020ced",
       "version_major": 2,
       "version_minor": 0
      },
      "text/plain": [
       "  0%|          | 0/15 [00:00<?, ?it/s]"
      ]
     },
     "metadata": {},
     "output_type": "display_data"
    },
    {
     "data": {
      "application/vnd.jupyter.widget-view+json": {
       "model_id": "48f07947264f4920a653b9fcbd703577",
       "version_major": 2,
       "version_minor": 0
      },
      "text/plain": [
       "  0%|          | 0/15 [00:00<?, ?it/s]"
      ]
     },
     "metadata": {},
     "output_type": "display_data"
    },
    {
     "data": {
      "application/vnd.jupyter.widget-view+json": {
       "model_id": "7bf4b4d131f6436e960c7625ce7f9e64",
       "version_major": 2,
       "version_minor": 0
      },
      "text/plain": [
       "  0%|          | 0/15 [00:00<?, ?it/s]"
      ]
     },
     "metadata": {},
     "output_type": "display_data"
    }
   ],
   "source": [
    "acc_score_lr = model.evaluate(X_test, y_test, model='lr')\n",
    "acc_score_mlp = model.evaluate(X_test, y_test, model='mlp')\n",
    "acc_score_rf = model.evaluate(X_test, y_test, model='rf')"
   ]
  },
  {
   "cell_type": "code",
   "execution_count": 9,
   "metadata": {},
   "outputs": [
    {
     "name": "stderr",
     "output_type": "stream",
     "text": [
      "c:\\Users\\mikaya\\anaconda3\\lib\\site-packages\\sklearn\\linear_model\\_logistic.py:814: ConvergenceWarning: lbfgs failed to converge (status=1):\n",
      "STOP: TOTAL NO. of ITERATIONS REACHED LIMIT.\n",
      "\n",
      "Increase the number of iterations (max_iter) or scale the data as shown in:\n",
      "    https://scikit-learn.org/stable/modules/preprocessing.html\n",
      "Please also refer to the documentation for alternative solver options:\n",
      "    https://scikit-learn.org/stable/modules/linear_model.html#logistic-regression\n",
      "  n_iter_i = _check_optimize_result(\n",
      "c:\\Users\\mikaya\\anaconda3\\lib\\site-packages\\sklearn\\neural_network\\_multilayer_perceptron.py:692: ConvergenceWarning: Stochastic Optimizer: Maximum iterations (200) reached and the optimization hasn't converged yet.\n",
      "  warnings.warn(\n"
     ]
    }
   ],
   "source": [
    "from sklearn.linear_model import LogisticRegression\n",
    "from sklearn.ensemble import RandomForestClassifier\n",
    "from sklearn.neural_network import MLPClassifier\n",
    "from sklearn.preprocessing import OneHotEncoder, LabelEncoder\n",
    "ohe = OneHotEncoder(handle_unknown='ignore')\n",
    "lbe = LabelEncoder()\n",
    "X_train_ohe = ohe.fit_transform(X_train)\n",
    "X_test_ohe = ohe.transform(X_test)\n",
    "y_train_lbe = lbe.fit_transform(y_train)\n",
    "y_test_lbe = lbe.transform(y_test)\n",
    "\n",
    "trtr_score_lr  = LogisticRegression().fit(X_train_ohe, y_train_lbe).score(X_test_ohe, y_test_lbe)\n",
    "trtr_score_rf  = RandomForestClassifier().fit(X_train, y_train_lbe).score(X_test, y_test_lbe)\n",
    "trtr_score_mlp = MLPClassifier().fit(X_train_ohe, y_train_lbe).score(X_test_ohe, y_test_lbe)"
   ]
  },
  {
   "cell_type": "code",
   "execution_count": 10,
   "metadata": {},
   "outputs": [
    {
     "data": {
      "text/html": [
       "<div>\n",
       "<style scoped>\n",
       "    .dataframe tbody tr th:only-of-type {\n",
       "        vertical-align: middle;\n",
       "    }\n",
       "\n",
       "    .dataframe tbody tr th {\n",
       "        vertical-align: top;\n",
       "    }\n",
       "\n",
       "    .dataframe thead th {\n",
       "        text-align: right;\n",
       "    }\n",
       "</style>\n",
       "<table border=\"1\" class=\"dataframe\">\n",
       "  <thead>\n",
       "    <tr style=\"text-align: right;\">\n",
       "      <th></th>\n",
       "      <th>Evaluated Item</th>\n",
       "      <th>LR</th>\n",
       "      <th>RF</th>\n",
       "      <th>MLP</th>\n",
       "    </tr>\n",
       "  </thead>\n",
       "  <tbody>\n",
       "    <tr>\n",
       "      <th>0</th>\n",
       "      <td>TSTR</td>\n",
       "      <td>0.853323</td>\n",
       "      <td>0.829122</td>\n",
       "      <td>0.843905</td>\n",
       "    </tr>\n",
       "    <tr>\n",
       "      <th>1</th>\n",
       "      <td>TRTR</td>\n",
       "      <td>0.873183</td>\n",
       "      <td>0.848532</td>\n",
       "      <td>0.859793</td>\n",
       "    </tr>\n",
       "  </tbody>\n",
       "</table>\n",
       "</div>"
      ],
      "text/plain": [
       "  Evaluated Item        LR        RF       MLP\n",
       "0           TSTR  0.853323  0.829122  0.843905\n",
       "1           TRTR  0.873183  0.848532  0.859793"
      ]
     },
     "execution_count": 10,
     "metadata": {},
     "output_type": "execute_result"
    }
   ],
   "source": [
    "df_evaluate = pd.DataFrame([\n",
    "    ['TSTR', acc_score_lr, acc_score_rf, acc_score_mlp],\n",
    "    ['TRTR', trtr_score_lr,trtr_score_rf,trtr_score_mlp]\n",
    "], columns=['Evaluated Item', 'LR', 'RF', 'MLP'])\n",
    "df_evaluate"
   ]
  },
  {
   "cell_type": "markdown",
   "metadata": {},
   "source": [
    "## 2. GANBLR++"
   ]
  },
  {
   "cell_type": "markdown",
   "metadata": {},
   "source": [
    "### 2.1. Load the data\n",
    "\n",
    "Unlike `GANBLR`, which can only handle discrete data, `GANBLR++` can handle numerical data as well.\n",
    "\n",
    "In this case, to test `GANBLR++`, we use the built-in `get_demo_data` to get the raw `adult` data in the format of `pandas.DataFrame`."
   ]
  },
  {
   "cell_type": "code",
   "execution_count": 11,
   "metadata": {},
   "outputs": [
    {
     "data": {
      "text/html": [
       "<div>\n",
       "<style scoped>\n",
       "    .dataframe tbody tr th:only-of-type {\n",
       "        vertical-align: middle;\n",
       "    }\n",
       "\n",
       "    .dataframe tbody tr th {\n",
       "        vertical-align: top;\n",
       "    }\n",
       "\n",
       "    .dataframe thead th {\n",
       "        text-align: right;\n",
       "    }\n",
       "</style>\n",
       "<table border=\"1\" class=\"dataframe\">\n",
       "  <thead>\n",
       "    <tr style=\"text-align: right;\">\n",
       "      <th></th>\n",
       "      <th>age</th>\n",
       "      <th>workclass</th>\n",
       "      <th>fnlwgt</th>\n",
       "      <th>education</th>\n",
       "      <th>education-num</th>\n",
       "      <th>marital-status</th>\n",
       "      <th>occupation</th>\n",
       "      <th>relationship</th>\n",
       "      <th>race</th>\n",
       "      <th>sex</th>\n",
       "      <th>capital-gain</th>\n",
       "      <th>capital-loss</th>\n",
       "      <th>hours-per-week</th>\n",
       "      <th>native-country</th>\n",
       "      <th>class</th>\n",
       "    </tr>\n",
       "  </thead>\n",
       "  <tbody>\n",
       "    <tr>\n",
       "      <th>0</th>\n",
       "      <td>39</td>\n",
       "      <td>State-gov</td>\n",
       "      <td>77516</td>\n",
       "      <td>Bachelors</td>\n",
       "      <td>13</td>\n",
       "      <td>Never-married</td>\n",
       "      <td>Adm-clerical</td>\n",
       "      <td>Not-in-family</td>\n",
       "      <td>White</td>\n",
       "      <td>Male</td>\n",
       "      <td>2174</td>\n",
       "      <td>0</td>\n",
       "      <td>40</td>\n",
       "      <td>United-States</td>\n",
       "      <td>&lt;=50K</td>\n",
       "    </tr>\n",
       "    <tr>\n",
       "      <th>1</th>\n",
       "      <td>50</td>\n",
       "      <td>Self-emp-not-inc</td>\n",
       "      <td>83311</td>\n",
       "      <td>Bachelors</td>\n",
       "      <td>13</td>\n",
       "      <td>Married-civ-spouse</td>\n",
       "      <td>Exec-managerial</td>\n",
       "      <td>Husband</td>\n",
       "      <td>White</td>\n",
       "      <td>Male</td>\n",
       "      <td>0</td>\n",
       "      <td>0</td>\n",
       "      <td>13</td>\n",
       "      <td>United-States</td>\n",
       "      <td>&lt;=50K</td>\n",
       "    </tr>\n",
       "    <tr>\n",
       "      <th>2</th>\n",
       "      <td>38</td>\n",
       "      <td>Private</td>\n",
       "      <td>215646</td>\n",
       "      <td>HS-grad</td>\n",
       "      <td>9</td>\n",
       "      <td>Divorced</td>\n",
       "      <td>Handlers-cleaners</td>\n",
       "      <td>Not-in-family</td>\n",
       "      <td>White</td>\n",
       "      <td>Male</td>\n",
       "      <td>0</td>\n",
       "      <td>0</td>\n",
       "      <td>40</td>\n",
       "      <td>United-States</td>\n",
       "      <td>&lt;=50K</td>\n",
       "    </tr>\n",
       "    <tr>\n",
       "      <th>3</th>\n",
       "      <td>53</td>\n",
       "      <td>Private</td>\n",
       "      <td>234721</td>\n",
       "      <td>11th</td>\n",
       "      <td>7</td>\n",
       "      <td>Married-civ-spouse</td>\n",
       "      <td>Handlers-cleaners</td>\n",
       "      <td>Husband</td>\n",
       "      <td>Black</td>\n",
       "      <td>Male</td>\n",
       "      <td>0</td>\n",
       "      <td>0</td>\n",
       "      <td>40</td>\n",
       "      <td>United-States</td>\n",
       "      <td>&lt;=50K</td>\n",
       "    </tr>\n",
       "    <tr>\n",
       "      <th>4</th>\n",
       "      <td>28</td>\n",
       "      <td>Private</td>\n",
       "      <td>338409</td>\n",
       "      <td>Bachelors</td>\n",
       "      <td>13</td>\n",
       "      <td>Married-civ-spouse</td>\n",
       "      <td>Prof-specialty</td>\n",
       "      <td>Wife</td>\n",
       "      <td>Black</td>\n",
       "      <td>Female</td>\n",
       "      <td>0</td>\n",
       "      <td>0</td>\n",
       "      <td>40</td>\n",
       "      <td>Cuba</td>\n",
       "      <td>&lt;=50K</td>\n",
       "    </tr>\n",
       "  </tbody>\n",
       "</table>\n",
       "</div>"
      ],
      "text/plain": [
       "   age         workclass  fnlwgt  education  education-num  \\\n",
       "0   39         State-gov   77516  Bachelors             13   \n",
       "1   50  Self-emp-not-inc   83311  Bachelors             13   \n",
       "2   38           Private  215646    HS-grad              9   \n",
       "3   53           Private  234721       11th              7   \n",
       "4   28           Private  338409  Bachelors             13   \n",
       "\n",
       "       marital-status         occupation   relationship   race     sex  \\\n",
       "0       Never-married       Adm-clerical  Not-in-family  White    Male   \n",
       "1  Married-civ-spouse    Exec-managerial        Husband  White    Male   \n",
       "2            Divorced  Handlers-cleaners  Not-in-family  White    Male   \n",
       "3  Married-civ-spouse  Handlers-cleaners        Husband  Black    Male   \n",
       "4  Married-civ-spouse     Prof-specialty           Wife  Black  Female   \n",
       "\n",
       "   capital-gain  capital-loss  hours-per-week native-country  class  \n",
       "0          2174             0              40  United-States  <=50K  \n",
       "1             0             0              13  United-States  <=50K  \n",
       "2             0             0              40  United-States  <=50K  \n",
       "3             0             0              40  United-States  <=50K  \n",
       "4             0             0              40           Cuba  <=50K  "
      ]
     },
     "execution_count": 11,
     "metadata": {},
     "output_type": "execute_result"
    }
   ],
   "source": [
    "from ganblr.utils import get_demo_data\n",
    "df = get_demo_data('adult-raw')\n",
    "df.head()"
   ]
  },
  {
   "cell_type": "code",
   "execution_count": 12,
   "metadata": {},
   "outputs": [],
   "source": [
    "from sklearn.model_selection import train_test_split\n",
    "x, y = df.values[:,:-1], df.values[:,-1]\n",
    "X_train, X_test, y_train, y_test = train_test_split(x, y, test_size=0.5)\n"
   ]
  },
  {
   "cell_type": "code",
   "execution_count": 13,
   "metadata": {},
   "outputs": [
    {
     "name": "stdout",
     "output_type": "stream",
     "text": [
      "Training shape: (24421, 14) (24421,)\n",
      "Test shape: (24421, 14) (24421,)\n"
     ]
    }
   ],
   "source": [
    "print(\"Training shape:\", X_train.shape, y_train.shape)\n",
    "print(\"Test shape:\", X_test.shape, y_test.shape)"
   ]
  },
  {
   "cell_type": "code",
   "execution_count": 14,
   "metadata": {},
   "outputs": [
    {
     "data": {
      "text/plain": [
       "array([dtype('int64'), dtype('O'), dtype('int64'), dtype('O'),\n",
       "       dtype('int64'), dtype('O'), dtype('O'), dtype('O'), dtype('O'),\n",
       "       dtype('O'), dtype('int64'), dtype('int64'), dtype('int64'),\n",
       "       dtype('O'), dtype('O')], dtype=object)"
      ]
     },
     "execution_count": 14,
     "metadata": {},
     "output_type": "execute_result"
    }
   ],
   "source": [
    "df.dtypes.values"
   ]
  },
  {
   "cell_type": "code",
   "execution_count": 15,
   "metadata": {},
   "outputs": [
    {
     "data": {
      "text/plain": [
       "array([ 0,  2,  4, 10, 11, 12], dtype=int64)"
      ]
     },
     "execution_count": 15,
     "metadata": {},
     "output_type": "execute_result"
    }
   ],
   "source": [
    "import numpy as np\n",
    "def is_numerical(dtype):\n",
    "    '''\n",
    "    if the type is one of ['signed-integer', 'unsigned-integer', 'floating point'], we reconginze it as a numerical one.\n",
    "    \n",
    "    Reference: https://numpy.org/doc/stable/reference/generated/numpy.dtype.kind.html#numpy.dtype.kind\n",
    "    '''\n",
    "    return dtype.kind in 'iuf'\n",
    "\n",
    "column_is_numerical = df.dtypes.apply(is_numerical).values\n",
    "numerical_columns = np.argwhere(column_is_numerical).ravel()\n",
    "numerical_columns"
   ]
  },
  {
   "cell_type": "code",
   "execution_count": 16,
   "metadata": {},
   "outputs": [
    {
     "name": "stderr",
     "output_type": "stream",
     "text": [
      "c:\\Users\\mikaya\\anaconda3\\lib\\site-packages\\sklearn\\mixture\\_base.py:277: ConvergenceWarning: Initialization 1 did not converge. Try different init parameters, or increase max_iter, tol or check for degenerate data.\n",
      "  warnings.warn(\n"
     ]
    },
    {
     "name": "stdout",
     "output_type": "stream",
     "text": [
      "warmup run:\n",
      "764/764 [==============================] - 2s 686us/step - loss: 0.4092 - accuracy: 0.8169\n",
      "Epoch 1/10: G_loss = 4.002487659454346, G_accuracy = 0.853855311870575, D_loss = 0.8450406789779663, D_accuracy = 0.788242518901825\n",
      "Epoch 2/10: G_loss = 3.051306962966919, G_accuracy = 0.859588086605072, D_loss = 0.6335127949714661, D_accuracy = 0.767793595790863\n",
      "Epoch 3/10: G_loss = 2.7741646766662598, G_accuracy = 0.8607346415519714, D_loss = 1.0663396120071411, D_accuracy = 0.6937015056610107\n",
      "Epoch 4/10: G_loss = 3.409590721130371, G_accuracy = 0.8624544739723206, D_loss = 1.5724759101867676, D_accuracy = 0.6476083397865295\n",
      "Epoch 5/10: G_loss = 3.0426745414733887, G_accuracy = 0.8631505966186523, D_loss = 2.7285985946655273, D_accuracy = 0.5808870792388916\n",
      "Epoch 6/10: G_loss = 3.376784563064575, G_accuracy = 0.8635600805282593, D_loss = 1.1194065809249878, D_accuracy = 0.739666759967804\n",
      "Epoch 7/10: G_loss = 3.1782145500183105, G_accuracy = 0.8649522662162781, D_loss = 3.2684273719787598, D_accuracy = 0.5583139061927795\n",
      "Epoch 8/10: G_loss = 3.9810738563537598, G_accuracy = 0.864829421043396, D_loss = 0.4941592216491699, D_accuracy = 0.8407340049743652\n",
      "Epoch 9/10: G_loss = 3.001241683959961, G_accuracy = 0.8647884726524353, D_loss = 1.789077639579773, D_accuracy = 0.6083228588104248\n",
      "Epoch 10/10: G_loss = 4.3656325340271, G_accuracy = 0.8651979565620422, D_loss = 0.7771210670471191, D_accuracy = 0.8108668327331543\n"
     ]
    },
    {
     "data": {
      "text/plain": [
       "<ganblr.models.ganblr.GANBLR at 0x210d2eeac10>"
      ]
     },
     "execution_count": 16,
     "metadata": {},
     "output_type": "execute_result"
    }
   ],
   "source": [
    "from ganblr import GANBLRPP\n",
    "ganblrpp = GANBLRPP(numerical_columns)\n",
    "ganblrpp.fit(X_train, y_train, epochs=10)"
   ]
  },
  {
   "cell_type": "code",
   "execution_count": 17,
   "metadata": {},
   "outputs": [
    {
     "name": "stdout",
     "output_type": "stream",
     "text": [
      "Step 1/2: Sampling discrete data from GANBLR.\n"
     ]
    },
    {
     "data": {
      "application/vnd.jupyter.widget-view+json": {
       "model_id": "55844a7158f04b85a2767b22884b7bed",
       "version_major": 2,
       "version_minor": 0
      },
      "text/plain": [
       "  0%|          | 0/15 [00:00<?, ?it/s]"
      ]
     },
     "metadata": {},
     "output_type": "display_data"
    },
    {
     "name": "stdout",
     "output_type": "stream",
     "text": [
      "step 2/2: Sampling numerical data.\n"
     ]
    },
    {
     "name": "stderr",
     "output_type": "stream",
     "text": [
      "sampling: 100%|██████████| 6/6 [00:00<00:00, 499.55it/s]\n"
     ]
    }
   ],
   "source": [
    "size = 1000\n",
    "syn_data = ganblrpp.sample(size)"
   ]
  },
  {
   "cell_type": "code",
   "execution_count": 18,
   "metadata": {},
   "outputs": [
    {
     "data": {
      "text/html": [
       "<div>\n",
       "<style scoped>\n",
       "    .dataframe tbody tr th:only-of-type {\n",
       "        vertical-align: middle;\n",
       "    }\n",
       "\n",
       "    .dataframe tbody tr th {\n",
       "        vertical-align: top;\n",
       "    }\n",
       "\n",
       "    .dataframe thead th {\n",
       "        text-align: right;\n",
       "    }\n",
       "</style>\n",
       "<table border=\"1\" class=\"dataframe\">\n",
       "  <thead>\n",
       "    <tr style=\"text-align: right;\">\n",
       "      <th></th>\n",
       "      <th>age</th>\n",
       "      <th>workclass</th>\n",
       "      <th>fnlwgt</th>\n",
       "      <th>education</th>\n",
       "      <th>education-num</th>\n",
       "      <th>marital-status</th>\n",
       "      <th>occupation</th>\n",
       "      <th>relationship</th>\n",
       "      <th>race</th>\n",
       "      <th>sex</th>\n",
       "      <th>capital-gain</th>\n",
       "      <th>capital-loss</th>\n",
       "      <th>hours-per-week</th>\n",
       "      <th>native-country</th>\n",
       "      <th>class</th>\n",
       "    </tr>\n",
       "  </thead>\n",
       "  <tbody>\n",
       "    <tr>\n",
       "      <th>0</th>\n",
       "      <td>24.015505</td>\n",
       "      <td>Local-gov</td>\n",
       "      <td>124832.703997</td>\n",
       "      <td>Assoc-acdm</td>\n",
       "      <td>4.236034</td>\n",
       "      <td>Divorced</td>\n",
       "      <td>Prof-specialty</td>\n",
       "      <td>Own-child</td>\n",
       "      <td>Black</td>\n",
       "      <td>Female</td>\n",
       "      <td>12782.024782</td>\n",
       "      <td>1305.85982</td>\n",
       "      <td>37.369192</td>\n",
       "      <td>Scotland</td>\n",
       "      <td>&lt;=50K</td>\n",
       "    </tr>\n",
       "    <tr>\n",
       "      <th>1</th>\n",
       "      <td>64.05973</td>\n",
       "      <td>Federal-gov</td>\n",
       "      <td>42297.443078</td>\n",
       "      <td>Masters</td>\n",
       "      <td>11.127331</td>\n",
       "      <td>Never-married</td>\n",
       "      <td>Exec-managerial</td>\n",
       "      <td>Own-child</td>\n",
       "      <td>Black</td>\n",
       "      <td>Male</td>\n",
       "      <td>12797.652436</td>\n",
       "      <td>1118.612571</td>\n",
       "      <td>58.679131</td>\n",
       "      <td>Laos</td>\n",
       "      <td>&lt;=50K</td>\n",
       "    </tr>\n",
       "    <tr>\n",
       "      <th>2</th>\n",
       "      <td>18.013976</td>\n",
       "      <td>State-gov</td>\n",
       "      <td>737270.73941</td>\n",
       "      <td>12th</td>\n",
       "      <td>14.033178</td>\n",
       "      <td>Never-married</td>\n",
       "      <td>Sales</td>\n",
       "      <td>Not-in-family</td>\n",
       "      <td>Amer-Indian-Eskimo</td>\n",
       "      <td>Female</td>\n",
       "      <td>-38.559027</td>\n",
       "      <td>971.729398</td>\n",
       "      <td>39.89928</td>\n",
       "      <td>Portugal</td>\n",
       "      <td>&lt;=50K</td>\n",
       "    </tr>\n",
       "    <tr>\n",
       "      <th>3</th>\n",
       "      <td>25.231355</td>\n",
       "      <td>Self-emp-inc</td>\n",
       "      <td>27948.685155</td>\n",
       "      <td>1st-4th</td>\n",
       "      <td>5.085956</td>\n",
       "      <td>Never-married</td>\n",
       "      <td>Machine-op-inspct</td>\n",
       "      <td>Husband</td>\n",
       "      <td>Amer-Indian-Eskimo</td>\n",
       "      <td>Male</td>\n",
       "      <td>123.163091</td>\n",
       "      <td>1114.484584</td>\n",
       "      <td>18.331086</td>\n",
       "      <td>Trinadad&amp;Tobago</td>\n",
       "      <td>&lt;=50K</td>\n",
       "    </tr>\n",
       "    <tr>\n",
       "      <th>4</th>\n",
       "      <td>46.881386</td>\n",
       "      <td>Self-emp-not-inc</td>\n",
       "      <td>169893.245237</td>\n",
       "      <td>Assoc-acdm</td>\n",
       "      <td>9.995286</td>\n",
       "      <td>Married-AF-spouse</td>\n",
       "      <td>Craft-repair</td>\n",
       "      <td>Husband</td>\n",
       "      <td>Other</td>\n",
       "      <td>Male</td>\n",
       "      <td>-8.044544</td>\n",
       "      <td>920.248413</td>\n",
       "      <td>58.718122</td>\n",
       "      <td>Trinadad&amp;Tobago</td>\n",
       "      <td>&gt;50K</td>\n",
       "    </tr>\n",
       "    <tr>\n",
       "      <th>5</th>\n",
       "      <td>43.072856</td>\n",
       "      <td>Never-worked</td>\n",
       "      <td>82376.139864</td>\n",
       "      <td>Doctorate</td>\n",
       "      <td>14.020086</td>\n",
       "      <td>Divorced</td>\n",
       "      <td>Exec-managerial</td>\n",
       "      <td>Husband</td>\n",
       "      <td>Other</td>\n",
       "      <td>Male</td>\n",
       "      <td>7895.626146</td>\n",
       "      <td>640.290188</td>\n",
       "      <td>16.597398</td>\n",
       "      <td>Honduras</td>\n",
       "      <td>&gt;50K</td>\n",
       "    </tr>\n",
       "    <tr>\n",
       "      <th>6</th>\n",
       "      <td>22.290981</td>\n",
       "      <td>Federal-gov</td>\n",
       "      <td>156881.114418</td>\n",
       "      <td>12th</td>\n",
       "      <td>16.1027</td>\n",
       "      <td>Never-married</td>\n",
       "      <td>Farming-fishing</td>\n",
       "      <td>Unmarried</td>\n",
       "      <td>Amer-Indian-Eskimo</td>\n",
       "      <td>Male</td>\n",
       "      <td>8847.349935</td>\n",
       "      <td>8.160812</td>\n",
       "      <td>71.206713</td>\n",
       "      <td>Taiwan</td>\n",
       "      <td>&lt;=50K</td>\n",
       "    </tr>\n",
       "    <tr>\n",
       "      <th>7</th>\n",
       "      <td>45.528674</td>\n",
       "      <td>Self-emp-not-inc</td>\n",
       "      <td>135455.933899</td>\n",
       "      <td>11th</td>\n",
       "      <td>2.049141</td>\n",
       "      <td>Married-civ-spouse</td>\n",
       "      <td>Craft-repair</td>\n",
       "      <td>Not-in-family</td>\n",
       "      <td>Amer-Indian-Eskimo</td>\n",
       "      <td>Female</td>\n",
       "      <td>29747.940528</td>\n",
       "      <td>920.791223</td>\n",
       "      <td>25.569059</td>\n",
       "      <td>Greece</td>\n",
       "      <td>&lt;=50K</td>\n",
       "    </tr>\n",
       "    <tr>\n",
       "      <th>8</th>\n",
       "      <td>23.342695</td>\n",
       "      <td>?</td>\n",
       "      <td>45860.773743</td>\n",
       "      <td>Bachelors</td>\n",
       "      <td>12.273781</td>\n",
       "      <td>Divorced</td>\n",
       "      <td>Tech-support</td>\n",
       "      <td>Wife</td>\n",
       "      <td>White</td>\n",
       "      <td>Male</td>\n",
       "      <td>12828.814516</td>\n",
       "      <td>8.421561</td>\n",
       "      <td>14.312241</td>\n",
       "      <td>Hong</td>\n",
       "      <td>&lt;=50K</td>\n",
       "    </tr>\n",
       "    <tr>\n",
       "      <th>9</th>\n",
       "      <td>80.155594</td>\n",
       "      <td>Self-emp-not-inc</td>\n",
       "      <td>220467.058339</td>\n",
       "      <td>Preschool</td>\n",
       "      <td>6.845098</td>\n",
       "      <td>Separated</td>\n",
       "      <td>Armed-Forces</td>\n",
       "      <td>Own-child</td>\n",
       "      <td>White</td>\n",
       "      <td>Male</td>\n",
       "      <td>6836.488561</td>\n",
       "      <td>573.535073</td>\n",
       "      <td>58.594679</td>\n",
       "      <td>Taiwan</td>\n",
       "      <td>&lt;=50K</td>\n",
       "    </tr>\n",
       "  </tbody>\n",
       "</table>\n",
       "</div>"
      ],
      "text/plain": [
       "         age         workclass         fnlwgt   education education-num  \\\n",
       "0  24.015505         Local-gov  124832.703997  Assoc-acdm      4.236034   \n",
       "1   64.05973       Federal-gov   42297.443078     Masters     11.127331   \n",
       "2  18.013976         State-gov   737270.73941        12th     14.033178   \n",
       "3  25.231355      Self-emp-inc   27948.685155     1st-4th      5.085956   \n",
       "4  46.881386  Self-emp-not-inc  169893.245237  Assoc-acdm      9.995286   \n",
       "5  43.072856      Never-worked   82376.139864   Doctorate     14.020086   \n",
       "6  22.290981       Federal-gov  156881.114418        12th       16.1027   \n",
       "7  45.528674  Self-emp-not-inc  135455.933899        11th      2.049141   \n",
       "8  23.342695                 ?   45860.773743   Bachelors     12.273781   \n",
       "9  80.155594  Self-emp-not-inc  220467.058339   Preschool      6.845098   \n",
       "\n",
       "       marital-status         occupation   relationship                race  \\\n",
       "0            Divorced     Prof-specialty      Own-child               Black   \n",
       "1       Never-married    Exec-managerial      Own-child               Black   \n",
       "2       Never-married              Sales  Not-in-family  Amer-Indian-Eskimo   \n",
       "3       Never-married  Machine-op-inspct        Husband  Amer-Indian-Eskimo   \n",
       "4   Married-AF-spouse       Craft-repair        Husband               Other   \n",
       "5            Divorced    Exec-managerial        Husband               Other   \n",
       "6       Never-married    Farming-fishing      Unmarried  Amer-Indian-Eskimo   \n",
       "7  Married-civ-spouse       Craft-repair  Not-in-family  Amer-Indian-Eskimo   \n",
       "8            Divorced       Tech-support           Wife               White   \n",
       "9           Separated       Armed-Forces      Own-child               White   \n",
       "\n",
       "      sex  capital-gain capital-loss hours-per-week   native-country  class  \n",
       "0  Female  12782.024782   1305.85982      37.369192         Scotland  <=50K  \n",
       "1    Male  12797.652436  1118.612571      58.679131             Laos  <=50K  \n",
       "2  Female    -38.559027   971.729398       39.89928         Portugal  <=50K  \n",
       "3    Male    123.163091  1114.484584      18.331086  Trinadad&Tobago  <=50K  \n",
       "4    Male     -8.044544   920.248413      58.718122  Trinadad&Tobago   >50K  \n",
       "5    Male   7895.626146   640.290188      16.597398         Honduras   >50K  \n",
       "6    Male   8847.349935     8.160812      71.206713           Taiwan  <=50K  \n",
       "7  Female  29747.940528   920.791223      25.569059           Greece  <=50K  \n",
       "8    Male  12828.814516     8.421561      14.312241             Hong  <=50K  \n",
       "9    Male   6836.488561   573.535073      58.594679           Taiwan  <=50K  "
      ]
     },
     "execution_count": 18,
     "metadata": {},
     "output_type": "execute_result"
    }
   ],
   "source": [
    "import pandas as pd\n",
    "pd.DataFrame(syn_data, columns=df.columns).head(10)"
   ]
  },
  {
   "cell_type": "code",
   "execution_count": 19,
   "metadata": {},
   "outputs": [
    {
     "name": "stdout",
     "output_type": "stream",
     "text": [
      "Step 1/2: Sampling discrete data from GANBLR.\n"
     ]
    },
    {
     "data": {
      "application/vnd.jupyter.widget-view+json": {
       "model_id": "4e908d242cbe4cc48cb33df63cd17377",
       "version_major": 2,
       "version_minor": 0
      },
      "text/plain": [
       "  0%|          | 0/15 [00:00<?, ?it/s]"
      ]
     },
     "metadata": {},
     "output_type": "display_data"
    },
    {
     "name": "stdout",
     "output_type": "stream",
     "text": [
      "step 2/2: Sampling numerical data.\n"
     ]
    },
    {
     "name": "stderr",
     "output_type": "stream",
     "text": [
      "sampling: 100%|██████████| 6/6 [00:00<00:00, 230.56it/s]\n"
     ]
    },
    {
     "name": "stdout",
     "output_type": "stream",
     "text": [
      "Step 1/2: Sampling discrete data from GANBLR.\n"
     ]
    },
    {
     "data": {
      "application/vnd.jupyter.widget-view+json": {
       "model_id": "315d4e55f6a14efab1a3b8e411a2c3db",
       "version_major": 2,
       "version_minor": 0
      },
      "text/plain": [
       "  0%|          | 0/15 [00:00<?, ?it/s]"
      ]
     },
     "metadata": {},
     "output_type": "display_data"
    },
    {
     "name": "stdout",
     "output_type": "stream",
     "text": [
      "step 2/2: Sampling numerical data.\n"
     ]
    },
    {
     "name": "stderr",
     "output_type": "stream",
     "text": [
      "sampling: 100%|██████████| 6/6 [00:00<00:00, 239.78it/s]\n"
     ]
    },
    {
     "name": "stdout",
     "output_type": "stream",
     "text": [
      "Step 1/2: Sampling discrete data from GANBLR.\n"
     ]
    },
    {
     "name": "stderr",
     "output_type": "stream",
     "text": [
      "c:\\Users\\mikaya\\anaconda3\\lib\\site-packages\\sklearn\\neural_network\\_multilayer_perceptron.py:692: ConvergenceWarning: Stochastic Optimizer: Maximum iterations (200) reached and the optimization hasn't converged yet.\n",
      "  warnings.warn(\n"
     ]
    },
    {
     "data": {
      "application/vnd.jupyter.widget-view+json": {
       "model_id": "31f34109c248444ea3a84dbc33764853",
       "version_major": 2,
       "version_minor": 0
      },
      "text/plain": [
       "  0%|          | 0/15 [00:00<?, ?it/s]"
      ]
     },
     "metadata": {},
     "output_type": "display_data"
    },
    {
     "name": "stdout",
     "output_type": "stream",
     "text": [
      "step 2/2: Sampling numerical data.\n"
     ]
    },
    {
     "name": "stderr",
     "output_type": "stream",
     "text": [
      "sampling: 100%|██████████| 6/6 [00:00<00:00, 230.56it/s]\n"
     ]
    }
   ],
   "source": [
    "acc_score_lr  = ganblrpp.evaluate(X_test, y_test, model='lr')\n",
    "acc_score_mlp = ganblrpp.evaluate(X_test, y_test, model='mlp')\n",
    "acc_score_rf  = ganblrpp.evaluate(X_test, y_test, model='rf')"
   ]
  },
  {
   "cell_type": "code",
   "execution_count": 20,
   "metadata": {},
   "outputs": [
    {
     "name": "stderr",
     "output_type": "stream",
     "text": [
      "c:\\Users\\mikaya\\anaconda3\\lib\\site-packages\\sklearn\\neural_network\\_multilayer_perceptron.py:692: ConvergenceWarning: Stochastic Optimizer: Maximum iterations (200) reached and the optimization hasn't converged yet.\n",
      "  warnings.warn(\n"
     ]
    }
   ],
   "source": [
    "from sklearn.linear_model import LogisticRegression\n",
    "from sklearn.neural_network import MLPClassifier\n",
    "from sklearn.ensemble import RandomForestClassifier\n",
    "from sklearn.preprocessing import OneHotEncoder, StandardScaler, OrdinalEncoder\n",
    "from sklearn.metrics import accuracy_score\n",
    "\n",
    "catgorical_columns = list(set(range(X_train.shape[1])) - set(numerical_columns))  \n",
    "\n",
    "ohe = OneHotEncoder(handle_unknown='ignore', sparse=False)\n",
    "X_train_ohe = ohe.fit_transform(X_train[:,catgorical_columns])\n",
    "X_test_ohe  = ohe.transform(X_test[:,catgorical_columns])\n",
    "X_train_num = X_train[:,numerical_columns]\n",
    "X_test_num  = X_test[:,numerical_columns]\n",
    "\n",
    "scaler = StandardScaler()\n",
    "X_train_concat = scaler.fit_transform(np.hstack([X_train_num, X_train_ohe]))\n",
    "X_test_concat  = scaler.transform(np.hstack([X_test_num, X_test_ohe]))\n",
    "\n",
    "lbe = LabelEncoder()\n",
    "y_train_lbe = lbe.fit_transform(y_train)\n",
    "y_test_lbe = lbe.transform(y_test)\n",
    "\n",
    "trtr_score_lr = LogisticRegression().fit(X_train_concat, y_train).score(X_test_concat, y_test)\n",
    "trtr_score_rf = RandomForestClassifier().fit(X_train_concat, y_train).score(X_test_concat, y_test)\n",
    "trtr_score_mlp = MLPClassifier().fit(X_train_concat, y_train).score(X_test_concat, y_test)"
   ]
  },
  {
   "cell_type": "code",
   "execution_count": 21,
   "metadata": {},
   "outputs": [
    {
     "data": {
      "text/html": [
       "<div>\n",
       "<style scoped>\n",
       "    .dataframe tbody tr th:only-of-type {\n",
       "        vertical-align: middle;\n",
       "    }\n",
       "\n",
       "    .dataframe tbody tr th {\n",
       "        vertical-align: top;\n",
       "    }\n",
       "\n",
       "    .dataframe thead th {\n",
       "        text-align: right;\n",
       "    }\n",
       "</style>\n",
       "<table border=\"1\" class=\"dataframe\">\n",
       "  <thead>\n",
       "    <tr style=\"text-align: right;\">\n",
       "      <th></th>\n",
       "      <th>Evaluated Item</th>\n",
       "      <th>LR</th>\n",
       "      <th>RF</th>\n",
       "      <th>MLP</th>\n",
       "    </tr>\n",
       "  </thead>\n",
       "  <tbody>\n",
       "    <tr>\n",
       "      <th>0</th>\n",
       "      <td>TSTR</td>\n",
       "      <td>0.768232</td>\n",
       "      <td>0.796896</td>\n",
       "      <td>0.795504</td>\n",
       "    </tr>\n",
       "    <tr>\n",
       "      <th>1</th>\n",
       "      <td>TRTR</td>\n",
       "      <td>0.240694</td>\n",
       "      <td>0.799844</td>\n",
       "      <td>0.758650</td>\n",
       "    </tr>\n",
       "  </tbody>\n",
       "</table>\n",
       "</div>"
      ],
      "text/plain": [
       "  Evaluated Item        LR        RF       MLP\n",
       "0           TSTR  0.768232  0.796896  0.795504\n",
       "1           TRTR  0.240694  0.799844  0.758650"
      ]
     },
     "execution_count": 21,
     "metadata": {},
     "output_type": "execute_result"
    }
   ],
   "source": [
    "df_evaluate = pd.DataFrame([\n",
    "    ['TSTR', acc_score_lr, acc_score_rf, acc_score_mlp],\n",
    "    ['TRTR', trtr_score_lr,trtr_score_rf,trtr_score_mlp]\n",
    "], columns=['Evaluated Item', 'LR', 'RF', 'MLP'])\n",
    "df_evaluate"
   ]
  },
  {
   "cell_type": "code",
   "execution_count": null,
   "metadata": {},
   "outputs": [],
   "source": []
  }
 ],
 "metadata": {
  "kernelspec": {
   "display_name": "Python 3.9.12 ('base')",
   "language": "python",
   "name": "python3"
  },
  "language_info": {
   "codemirror_mode": {
    "name": "ipython",
    "version": 3
   },
   "file_extension": ".py",
   "mimetype": "text/x-python",
   "name": "python",
   "nbconvert_exporter": "python",
   "pygments_lexer": "ipython3",
   "version": "3.9.12"
  },
  "orig_nbformat": 4,
  "vscode": {
   "interpreter": {
    "hash": "5bbedb5fa720de9fc907ceb56d89ea952339fe8fd12ba55975f895c345e9c974"
   }
  }
 },
 "nbformat": 4,
 "nbformat_minor": 2
}
