{
 "cells": [
  {
   "cell_type": "code",
   "execution_count": 34,
   "metadata": {},
   "outputs": [
    {
     "data": {
      "text/html": [
       "<div>\n",
       "<style scoped>\n",
       "    .dataframe tbody tr th:only-of-type {\n",
       "        vertical-align: middle;\n",
       "    }\n",
       "\n",
       "    .dataframe tbody tr th {\n",
       "        vertical-align: top;\n",
       "    }\n",
       "\n",
       "    .dataframe thead th {\n",
       "        text-align: right;\n",
       "    }\n",
       "</style>\n",
       "<table border=\"1\" class=\"dataframe\">\n",
       "  <thead>\n",
       "    <tr style=\"text-align: right;\">\n",
       "      <th></th>\n",
       "      <th>buying</th>\n",
       "      <th>maint</th>\n",
       "      <th>doors</th>\n",
       "      <th>persons</th>\n",
       "      <th>lug_boot</th>\n",
       "      <th>safety</th>\n",
       "      <th>class</th>\n",
       "    </tr>\n",
       "  </thead>\n",
       "  <tbody>\n",
       "    <tr>\n",
       "      <th>0</th>\n",
       "      <td>3</td>\n",
       "      <td>3</td>\n",
       "      <td>0</td>\n",
       "      <td>0</td>\n",
       "      <td>2</td>\n",
       "      <td>1</td>\n",
       "      <td>2</td>\n",
       "    </tr>\n",
       "    <tr>\n",
       "      <th>1</th>\n",
       "      <td>3</td>\n",
       "      <td>3</td>\n",
       "      <td>0</td>\n",
       "      <td>0</td>\n",
       "      <td>2</td>\n",
       "      <td>2</td>\n",
       "      <td>2</td>\n",
       "    </tr>\n",
       "    <tr>\n",
       "      <th>2</th>\n",
       "      <td>3</td>\n",
       "      <td>3</td>\n",
       "      <td>0</td>\n",
       "      <td>0</td>\n",
       "      <td>2</td>\n",
       "      <td>0</td>\n",
       "      <td>2</td>\n",
       "    </tr>\n",
       "    <tr>\n",
       "      <th>3</th>\n",
       "      <td>3</td>\n",
       "      <td>3</td>\n",
       "      <td>0</td>\n",
       "      <td>0</td>\n",
       "      <td>1</td>\n",
       "      <td>1</td>\n",
       "      <td>2</td>\n",
       "    </tr>\n",
       "    <tr>\n",
       "      <th>4</th>\n",
       "      <td>3</td>\n",
       "      <td>3</td>\n",
       "      <td>0</td>\n",
       "      <td>0</td>\n",
       "      <td>1</td>\n",
       "      <td>2</td>\n",
       "      <td>2</td>\n",
       "    </tr>\n",
       "  </tbody>\n",
       "</table>\n",
       "</div>"
      ],
      "text/plain": [
       "   buying  maint  doors  persons  lug_boot  safety  class\n",
       "0       3      3      0        0         2       1      2\n",
       "1       3      3      0        0         2       2      2\n",
       "2       3      3      0        0         2       0      2\n",
       "3       3      3      0        0         1       1      2\n",
       "4       3      3      0        0         1       2      2"
      ]
     },
     "execution_count": 34,
     "metadata": {},
     "output_type": "execute_result"
    }
   ],
   "source": [
    "import numpy as np\n",
    "from sklearn.preprocessing import OrdinalEncoder \n",
    "from sklearn.model_selection import train_test_split\n",
    "from ganblr.utils import get_demo_data\n",
    "import warnings\n",
    "warnings.filterwarnings('ignore')\n",
    "\n",
    "df = get_demo_data('car') #Optional: adult or car\n",
    "df.head()"
   ]
  },
  {
   "cell_type": "code",
   "execution_count": 35,
   "metadata": {},
   "outputs": [],
   "source": [
    "data = OrdinalEncoder(dtype=int).fit_transform(df)\n",
    "x, y = data[:,:-1], data[:,-1]\n",
    "X_train, X_test, y_train, y_test = train_test_split(x, y, test_size=0.5)"
   ]
  },
  {
   "cell_type": "code",
   "execution_count": 38,
   "metadata": {},
   "outputs": [
    {
     "name": "stdout",
     "output_type": "stream",
     "text": [
      "27/27 [==============================] - 1s 654us/step - loss: 1.5148 - accuracy: 0.2465\n"
     ]
    },
    {
     "data": {
      "application/vnd.jupyter.widget-view+json": {
       "model_id": "1a4341ad901346ea9021eb31b9b2a3d6",
       "version_major": 2,
       "version_minor": 0
      },
      "text/plain": [
       "  0%|          | 0/7 [00:00<?, ?it/s]"
      ]
     },
     "metadata": {},
     "output_type": "display_data"
    },
    {
     "name": "stdout",
     "output_type": "stream",
     "text": [
      "44/44 [==============================] - 0s 652us/step - loss: 1.1297 - accuracy: 0.5224\n",
      "27/27 [==============================] - 0s 616us/step\n",
      "27/27 [==============================] - 1s 654us/step - loss: 1.8273 - accuracy: 0.2535\n"
     ]
    },
    {
     "data": {
      "application/vnd.jupyter.widget-view+json": {
       "model_id": "9b99fe7c364f4bdaa7542ff7250137e2",
       "version_major": 2,
       "version_minor": 0
      },
      "text/plain": [
       "  0%|          | 0/7 [00:00<?, ?it/s]"
      ]
     },
     "metadata": {},
     "output_type": "display_data"
    },
    {
     "name": "stdout",
     "output_type": "stream",
     "text": [
      "44/44 [==============================] - 0s 675us/step - loss: 0.7916 - accuracy: 0.5405\n",
      "27/27 [==============================] - 0s 539us/step\n",
      "27/27 [==============================] - 1s 654us/step - loss: 2.1406 - accuracy: 0.2743\n"
     ]
    },
    {
     "data": {
      "application/vnd.jupyter.widget-view+json": {
       "model_id": "bc18cf5573f549a9a1017e1688c7d071",
       "version_major": 2,
       "version_minor": 0
      },
      "text/plain": [
       "  0%|          | 0/7 [00:00<?, ?it/s]"
      ]
     },
     "metadata": {},
     "output_type": "display_data"
    },
    {
     "name": "stdout",
     "output_type": "stream",
     "text": [
      "44/44 [==============================] - 0s 652us/step - loss: 1.3383 - accuracy: 0.4986\n",
      "27/27 [==============================] - 0s 539us/step\n",
      "27/27 [==============================] - 1s 654us/step - loss: 3.8046 - accuracy: 0.2928\n"
     ]
    },
    {
     "data": {
      "application/vnd.jupyter.widget-view+json": {
       "model_id": "85d8af48339c4474979234b1fde36cf8",
       "version_major": 2,
       "version_minor": 0
      },
      "text/plain": [
       "  0%|          | 0/7 [00:00<?, ?it/s]"
      ]
     },
     "metadata": {},
     "output_type": "display_data"
    },
    {
     "name": "stdout",
     "output_type": "stream",
     "text": [
      "44/44 [==============================] - 0s 628us/step - loss: 1.0370 - accuracy: 0.4703\n",
      "27/27 [==============================] - 0s 539us/step\n",
      "27/27 [==============================] - 1s 654us/step - loss: 2.7359 - accuracy: 0.3067\n"
     ]
    },
    {
     "data": {
      "application/vnd.jupyter.widget-view+json": {
       "model_id": "07d2c416286c40988d327db6a3d1cae6",
       "version_major": 2,
       "version_minor": 0
      },
      "text/plain": [
       "  0%|          | 0/7 [00:00<?, ?it/s]"
      ]
     },
     "metadata": {},
     "output_type": "display_data"
    },
    {
     "name": "stdout",
     "output_type": "stream",
     "text": [
      "44/44 [==============================] - 1s 652us/step - loss: 1.2981 - accuracy: 0.4935\n",
      "27/27 [==============================] - 0s 539us/step\n",
      "27/27 [==============================] - 1s 731us/step - loss: 1.5827 - accuracy: 0.3229\n"
     ]
    },
    {
     "data": {
      "application/vnd.jupyter.widget-view+json": {
       "model_id": "fd7a8497f83841239f5351c79dbc61df",
       "version_major": 2,
       "version_minor": 0
      },
      "text/plain": [
       "  0%|          | 0/7 [00:00<?, ?it/s]"
      ]
     },
     "metadata": {},
     "output_type": "display_data"
    },
    {
     "name": "stdout",
     "output_type": "stream",
     "text": [
      "44/44 [==============================] - 0s 605us/step - loss: 0.9793 - accuracy: 0.5166\n",
      "27/27 [==============================] - 0s 539us/step\n",
      "27/27 [==============================] - 1s 654us/step - loss: 1.7696 - accuracy: 0.3495\n"
     ]
    },
    {
     "data": {
      "application/vnd.jupyter.widget-view+json": {
       "model_id": "62b8647e0e0e4341b5e468ea43a745fa",
       "version_major": 2,
       "version_minor": 0
      },
      "text/plain": [
       "  0%|          | 0/7 [00:00<?, ?it/s]"
      ]
     },
     "metadata": {},
     "output_type": "display_data"
    },
    {
     "name": "stdout",
     "output_type": "stream",
     "text": [
      "44/44 [==============================] - 0s 652us/step - loss: 0.8948 - accuracy: 0.5094\n",
      "27/27 [==============================] - 0s 539us/step\n",
      "27/27 [==============================] - 1s 654us/step - loss: 2.1186 - accuracy: 0.3727\n"
     ]
    },
    {
     "data": {
      "application/vnd.jupyter.widget-view+json": {
       "model_id": "5f397a3d3fe240f78f2feb4493b1dbab",
       "version_major": 2,
       "version_minor": 0
      },
      "text/plain": [
       "  0%|          | 0/7 [00:00<?, ?it/s]"
      ]
     },
     "metadata": {},
     "output_type": "display_data"
    },
    {
     "name": "stdout",
     "output_type": "stream",
     "text": [
      "44/44 [==============================] - 0s 628us/step - loss: 0.8991 - accuracy: 0.4993\n",
      "27/27 [==============================] - 0s 539us/step\n",
      "27/27 [==============================] - 1s 655us/step - loss: 2.3339 - accuracy: 0.3981\n"
     ]
    },
    {
     "data": {
      "application/vnd.jupyter.widget-view+json": {
       "model_id": "538c01bc73cd4639b404da179c2f5c2e",
       "version_major": 2,
       "version_minor": 0
      },
      "text/plain": [
       "  0%|          | 0/7 [00:00<?, ?it/s]"
      ]
     },
     "metadata": {},
     "output_type": "display_data"
    },
    {
     "name": "stdout",
     "output_type": "stream",
     "text": [
      "44/44 [==============================] - 0s 652us/step - loss: 1.5462 - accuracy: 0.4971\n",
      "27/27 [==============================] - 0s 539us/step\n",
      "27/27 [==============================] - 1s 654us/step - loss: 1.3526 - accuracy: 0.4236\n"
     ]
    },
    {
     "data": {
      "application/vnd.jupyter.widget-view+json": {
       "model_id": "d515b13aecbd49dc9b593439c8fdb039",
       "version_major": 2,
       "version_minor": 0
      },
      "text/plain": [
       "  0%|          | 0/7 [00:00<?, ?it/s]"
      ]
     },
     "metadata": {},
     "output_type": "display_data"
    },
    {
     "name": "stdout",
     "output_type": "stream",
     "text": [
      "44/44 [==============================] - 0s 652us/step - loss: 0.8800 - accuracy: 0.4899\n",
      "27/27 [==============================] - 0s 539us/step\n",
      "27/27 [==============================] - 1s 654us/step - loss: 2.1938 - accuracy: 0.4421\n"
     ]
    },
    {
     "data": {
      "application/vnd.jupyter.widget-view+json": {
       "model_id": "b37db4c0229b43a28640c22e4548e9f1",
       "version_major": 2,
       "version_minor": 0
      },
      "text/plain": [
       "  0%|          | 0/7 [00:00<?, ?it/s]"
      ]
     },
     "metadata": {},
     "output_type": "display_data"
    },
    {
     "name": "stdout",
     "output_type": "stream",
     "text": [
      "44/44 [==============================] - 0s 605us/step - loss: 0.8023 - accuracy: 0.5217\n",
      "27/27 [==============================] - 0s 500us/step\n",
      "27/27 [==============================] - 1s 654us/step - loss: 2.0701 - accuracy: 0.4549\n"
     ]
    },
    {
     "data": {
      "application/vnd.jupyter.widget-view+json": {
       "model_id": "0e3ceaba36394845b6ef15cfc9d01528",
       "version_major": 2,
       "version_minor": 0
      },
      "text/plain": [
       "  0%|          | 0/7 [00:00<?, ?it/s]"
      ]
     },
     "metadata": {},
     "output_type": "display_data"
    },
    {
     "name": "stdout",
     "output_type": "stream",
     "text": [
      "44/44 [==============================] - 0s 652us/step - loss: 0.9067 - accuracy: 0.5260\n",
      "27/27 [==============================] - 0s 539us/step\n",
      "27/27 [==============================] - 1s 654us/step - loss: 2.6572 - accuracy: 0.4838\n"
     ]
    },
    {
     "data": {
      "application/vnd.jupyter.widget-view+json": {
       "model_id": "83cad53f6cff43309e96b79946414b5c",
       "version_major": 2,
       "version_minor": 0
      },
      "text/plain": [
       "  0%|          | 0/7 [00:00<?, ?it/s]"
      ]
     },
     "metadata": {},
     "output_type": "display_data"
    },
    {
     "name": "stdout",
     "output_type": "stream",
     "text": [
      "44/44 [==============================] - 0s 628us/step - loss: 0.9375 - accuracy: 0.4732\n",
      "27/27 [==============================] - 0s 577us/step\n",
      "27/27 [==============================] - 1s 654us/step - loss: 2.1561 - accuracy: 0.5058\n"
     ]
    },
    {
     "data": {
      "application/vnd.jupyter.widget-view+json": {
       "model_id": "bdb0ba8f41a14db7a8b404ab0e0006d5",
       "version_major": 2,
       "version_minor": 0
      },
      "text/plain": [
       "  0%|          | 0/7 [00:00<?, ?it/s]"
      ]
     },
     "metadata": {},
     "output_type": "display_data"
    },
    {
     "name": "stdout",
     "output_type": "stream",
     "text": [
      "44/44 [==============================] - 0s 605us/step - loss: 0.8767 - accuracy: 0.5260\n",
      "27/27 [==============================] - 0s 539us/step\n",
      "27/27 [==============================] - 1s 654us/step - loss: 2.4689 - accuracy: 0.5289\n"
     ]
    },
    {
     "data": {
      "application/vnd.jupyter.widget-view+json": {
       "model_id": "3dc118eca7664a2b84e1bc00e04821c0",
       "version_major": 2,
       "version_minor": 0
      },
      "text/plain": [
       "  0%|          | 0/7 [00:00<?, ?it/s]"
      ]
     },
     "metadata": {},
     "output_type": "display_data"
    },
    {
     "name": "stdout",
     "output_type": "stream",
     "text": [
      "44/44 [==============================] - 0s 618us/step - loss: 1.1958 - accuracy: 0.4609\n",
      "27/27 [==============================] - 0s 539us/step\n",
      "27/27 [==============================] - 1s 654us/step - loss: 1.4444 - accuracy: 0.5475\n"
     ]
    },
    {
     "data": {
      "application/vnd.jupyter.widget-view+json": {
       "model_id": "b6200a50beb94fc6b63dcc4512c231b5",
       "version_major": 2,
       "version_minor": 0
      },
      "text/plain": [
       "  0%|          | 0/7 [00:00<?, ?it/s]"
      ]
     },
     "metadata": {},
     "output_type": "display_data"
    },
    {
     "name": "stdout",
     "output_type": "stream",
     "text": [
      "44/44 [==============================] - 0s 628us/step - loss: 1.2336 - accuracy: 0.4942\n",
      "27/27 [==============================] - 0s 539us/step\n",
      "27/27 [==============================] - 1s 616us/step - loss: 1.3036 - accuracy: 0.5683\n"
     ]
    },
    {
     "data": {
      "application/vnd.jupyter.widget-view+json": {
       "model_id": "ba569914918844478fb1a15cf40f4ece",
       "version_major": 2,
       "version_minor": 0
      },
      "text/plain": [
       "  0%|          | 0/7 [00:00<?, ?it/s]"
      ]
     },
     "metadata": {},
     "output_type": "display_data"
    },
    {
     "name": "stdout",
     "output_type": "stream",
     "text": [
      "44/44 [==============================] - 0s 618us/step - loss: 1.2770 - accuracy: 0.4834\n",
      "27/27 [==============================] - 0s 539us/step\n",
      "27/27 [==============================] - 1s 770us/step - loss: 2.9696 - accuracy: 0.5868\n"
     ]
    },
    {
     "data": {
      "application/vnd.jupyter.widget-view+json": {
       "model_id": "39012f7e3a14483788b7c415bcfc776e",
       "version_major": 2,
       "version_minor": 0
      },
      "text/plain": [
       "  0%|          | 0/7 [00:00<?, ?it/s]"
      ]
     },
     "metadata": {},
     "output_type": "display_data"
    },
    {
     "name": "stdout",
     "output_type": "stream",
     "text": [
      "44/44 [==============================] - 0s 628us/step - loss: 1.0458 - accuracy: 0.4638\n",
      "27/27 [==============================] - 0s 500us/step\n",
      "27/27 [==============================] - 1s 654us/step - loss: 1.3875 - accuracy: 0.6076\n"
     ]
    },
    {
     "data": {
      "application/vnd.jupyter.widget-view+json": {
       "model_id": "098283c24d70467a9a1cf53f1c6ff6ed",
       "version_major": 2,
       "version_minor": 0
      },
      "text/plain": [
       "  0%|          | 0/7 [00:00<?, ?it/s]"
      ]
     },
     "metadata": {},
     "output_type": "display_data"
    },
    {
     "name": "stdout",
     "output_type": "stream",
     "text": [
      "44/44 [==============================] - 0s 628us/step - loss: 0.7171 - accuracy: 0.5181\n",
      "27/27 [==============================] - 0s 556us/step\n",
      "27/27 [==============================] - 1s 616us/step - loss: 1.6804 - accuracy: 0.6204\n"
     ]
    },
    {
     "data": {
      "application/vnd.jupyter.widget-view+json": {
       "model_id": "39012436b3d6436cb01db7530bd6af5f",
       "version_major": 2,
       "version_minor": 0
      },
      "text/plain": [
       "  0%|          | 0/7 [00:00<?, ?it/s]"
      ]
     },
     "metadata": {},
     "output_type": "display_data"
    },
    {
     "name": "stdout",
     "output_type": "stream",
     "text": [
      "44/44 [==============================] - 0s 628us/step - loss: 0.8708 - accuracy: 0.5239\n",
      "27/27 [==============================] - 0s 577us/step\n",
      "27/27 [==============================] - 1s 686us/step - loss: 1.4791 - accuracy: 0.6366\n"
     ]
    },
    {
     "data": {
      "application/vnd.jupyter.widget-view+json": {
       "model_id": "8c2f95cc01804321bc3c27d379bdca65",
       "version_major": 2,
       "version_minor": 0
      },
      "text/plain": [
       "  0%|          | 0/7 [00:00<?, ?it/s]"
      ]
     },
     "metadata": {},
     "output_type": "display_data"
    },
    {
     "name": "stdout",
     "output_type": "stream",
     "text": [
      "44/44 [==============================] - 0s 628us/step - loss: 1.4420 - accuracy: 0.5000\n",
      "27/27 [==============================] - 0s 539us/step\n",
      "27/27 [==============================] - 1s 654us/step - loss: 3.6908 - accuracy: 0.6516\n"
     ]
    },
    {
     "data": {
      "application/vnd.jupyter.widget-view+json": {
       "model_id": "b20ef822d6b9437db7392ee64cf9f591",
       "version_major": 2,
       "version_minor": 0
      },
      "text/plain": [
       "  0%|          | 0/7 [00:00<?, ?it/s]"
      ]
     },
     "metadata": {},
     "output_type": "display_data"
    },
    {
     "name": "stdout",
     "output_type": "stream",
     "text": [
      "44/44 [==============================] - 0s 652us/step - loss: 0.9551 - accuracy: 0.5152\n",
      "27/27 [==============================] - 0s 539us/step\n",
      "27/27 [==============================] - 1s 654us/step - loss: 1.5308 - accuracy: 0.6667\n"
     ]
    },
    {
     "data": {
      "application/vnd.jupyter.widget-view+json": {
       "model_id": "4d6bf63a0975457389df4a41f7c17787",
       "version_major": 2,
       "version_minor": 0
      },
      "text/plain": [
       "  0%|          | 0/7 [00:00<?, ?it/s]"
      ]
     },
     "metadata": {},
     "output_type": "display_data"
    },
    {
     "name": "stdout",
     "output_type": "stream",
     "text": [
      "44/44 [==============================] - 0s 628us/step - loss: 0.8081 - accuracy: 0.5485\n",
      "27/27 [==============================] - 0s 539us/step\n",
      "27/27 [==============================] - 1s 654us/step - loss: 1.8837 - accuracy: 0.6840\n"
     ]
    },
    {
     "data": {
      "application/vnd.jupyter.widget-view+json": {
       "model_id": "bc6886b4b9a54e29922f8304c86b5bd7",
       "version_major": 2,
       "version_minor": 0
      },
      "text/plain": [
       "  0%|          | 0/7 [00:00<?, ?it/s]"
      ]
     },
     "metadata": {},
     "output_type": "display_data"
    },
    {
     "name": "stdout",
     "output_type": "stream",
     "text": [
      "44/44 [==============================] - 0s 628us/step - loss: 0.9532 - accuracy: 0.4964\n",
      "27/27 [==============================] - 0s 577us/step\n",
      "27/27 [==============================] - 1s 654us/step - loss: 1.6244 - accuracy: 0.7037\n"
     ]
    },
    {
     "data": {
      "application/vnd.jupyter.widget-view+json": {
       "model_id": "abec44e8130847ad8dd3d087011b879b",
       "version_major": 2,
       "version_minor": 0
      },
      "text/plain": [
       "  0%|          | 0/7 [00:00<?, ?it/s]"
      ]
     },
     "metadata": {},
     "output_type": "display_data"
    },
    {
     "name": "stdout",
     "output_type": "stream",
     "text": [
      "44/44 [==============================] - 0s 628us/step - loss: 0.9221 - accuracy: 0.5246\n",
      "27/27 [==============================] - 0s 539us/step\n",
      "27/27 [==============================] - 1s 654us/step - loss: 2.3414 - accuracy: 0.7153\n"
     ]
    },
    {
     "data": {
      "application/vnd.jupyter.widget-view+json": {
       "model_id": "a003a7f2707844b4a1e3dbad11ad2104",
       "version_major": 2,
       "version_minor": 0
      },
      "text/plain": [
       "  0%|          | 0/7 [00:00<?, ?it/s]"
      ]
     },
     "metadata": {},
     "output_type": "display_data"
    },
    {
     "name": "stdout",
     "output_type": "stream",
     "text": [
      "44/44 [==============================] - 0s 652us/step - loss: 0.8303 - accuracy: 0.5297\n",
      "27/27 [==============================] - 0s 539us/step\n",
      "27/27 [==============================] - 1s 654us/step - loss: 1.7671 - accuracy: 0.7315\n"
     ]
    },
    {
     "data": {
      "application/vnd.jupyter.widget-view+json": {
       "model_id": "cc8840c3c4e449a3ba232907173c5505",
       "version_major": 2,
       "version_minor": 0
      },
      "text/plain": [
       "  0%|          | 0/7 [00:00<?, ?it/s]"
      ]
     },
     "metadata": {},
     "output_type": "display_data"
    },
    {
     "name": "stdout",
     "output_type": "stream",
     "text": [
      "44/44 [==============================] - 0s 652us/step - loss: 1.4329 - accuracy: 0.4957\n",
      "27/27 [==============================] - 0s 500us/step\n",
      "27/27 [==============================] - 1s 654us/step - loss: 1.0669 - accuracy: 0.7442\n"
     ]
    },
    {
     "data": {
      "application/vnd.jupyter.widget-view+json": {
       "model_id": "7d8166d6a1f64e88b34dabe33fdbca12",
       "version_major": 2,
       "version_minor": 0
      },
      "text/plain": [
       "  0%|          | 0/7 [00:00<?, ?it/s]"
      ]
     },
     "metadata": {},
     "output_type": "display_data"
    },
    {
     "name": "stdout",
     "output_type": "stream",
     "text": [
      "44/44 [==============================] - 0s 652us/step - loss: 1.1063 - accuracy: 0.4826\n",
      "27/27 [==============================] - 0s 539us/step\n",
      "27/27 [==============================] - 1s 616us/step - loss: 1.1145 - accuracy: 0.7488\n"
     ]
    },
    {
     "data": {
      "application/vnd.jupyter.widget-view+json": {
       "model_id": "02f47352d56743e2a261eed733baa4ac",
       "version_major": 2,
       "version_minor": 0
      },
      "text/plain": [
       "  0%|          | 0/7 [00:00<?, ?it/s]"
      ]
     },
     "metadata": {},
     "output_type": "display_data"
    },
    {
     "name": "stdout",
     "output_type": "stream",
     "text": [
      "44/44 [==============================] - 0s 628us/step - loss: 1.0134 - accuracy: 0.5007\n",
      "27/27 [==============================] - 0s 539us/step\n",
      "27/27 [==============================] - 1s 654us/step - loss: 2.4415 - accuracy: 0.7500\n"
     ]
    },
    {
     "data": {
      "application/vnd.jupyter.widget-view+json": {
       "model_id": "752103487bf74329ab8a73cc618955c5",
       "version_major": 2,
       "version_minor": 0
      },
      "text/plain": [
       "  0%|          | 0/7 [00:00<?, ?it/s]"
      ]
     },
     "metadata": {},
     "output_type": "display_data"
    },
    {
     "name": "stdout",
     "output_type": "stream",
     "text": [
      "44/44 [==============================] - 0s 675us/step - loss: 0.8582 - accuracy: 0.4949\n",
      "27/27 [==============================] - 0s 500us/step\n",
      "27/27 [==============================] - 1s 654us/step - loss: 1.9076 - accuracy: 0.7535\n"
     ]
    },
    {
     "data": {
      "application/vnd.jupyter.widget-view+json": {
       "model_id": "f95415a2c2d3494f9b228c5b70712f29",
       "version_major": 2,
       "version_minor": 0
      },
      "text/plain": [
       "  0%|          | 0/7 [00:00<?, ?it/s]"
      ]
     },
     "metadata": {},
     "output_type": "display_data"
    },
    {
     "name": "stdout",
     "output_type": "stream",
     "text": [
      "44/44 [==============================] - 0s 628us/step - loss: 0.8625 - accuracy: 0.5420\n",
      "27/27 [==============================] - 0s 539us/step\n",
      "27/27 [==============================] - 1s 616us/step - loss: 1.7624 - accuracy: 0.7604\n"
     ]
    },
    {
     "data": {
      "application/vnd.jupyter.widget-view+json": {
       "model_id": "fe6cdabc333a46f9a8aaf1979b2a6c91",
       "version_major": 2,
       "version_minor": 0
      },
      "text/plain": [
       "  0%|          | 0/7 [00:00<?, ?it/s]"
      ]
     },
     "metadata": {},
     "output_type": "display_data"
    },
    {
     "name": "stdout",
     "output_type": "stream",
     "text": [
      "44/44 [==============================] - 1s 652us/step - loss: 0.9648 - accuracy: 0.5080\n",
      "27/27 [==============================] - 0s 577us/step\n",
      "27/27 [==============================] - 1s 654us/step - loss: 1.3318 - accuracy: 0.7604\n"
     ]
    },
    {
     "data": {
      "application/vnd.jupyter.widget-view+json": {
       "model_id": "bcde2e1a12da41ffa21e5041c0f14936",
       "version_major": 2,
       "version_minor": 0
      },
      "text/plain": [
       "  0%|          | 0/7 [00:00<?, ?it/s]"
      ]
     },
     "metadata": {},
     "output_type": "display_data"
    },
    {
     "name": "stdout",
     "output_type": "stream",
     "text": [
      "44/44 [==============================] - 0s 628us/step - loss: 1.6985 - accuracy: 0.4877\n",
      "27/27 [==============================] - 0s 539us/step\n",
      "27/27 [==============================] - 1s 654us/step - loss: 3.5640 - accuracy: 0.7616\n"
     ]
    },
    {
     "data": {
      "application/vnd.jupyter.widget-view+json": {
       "model_id": "b08b623d1bd941dcaee4324bc773fc41",
       "version_major": 2,
       "version_minor": 0
      },
      "text/plain": [
       "  0%|          | 0/7 [00:00<?, ?it/s]"
      ]
     },
     "metadata": {},
     "output_type": "display_data"
    },
    {
     "name": "stdout",
     "output_type": "stream",
     "text": [
      "44/44 [==============================] - 0s 652us/step - loss: 0.8209 - accuracy: 0.5434\n",
      "27/27 [==============================] - 0s 500us/step\n",
      "27/27 [==============================] - 1s 654us/step - loss: 1.9851 - accuracy: 0.7639\n"
     ]
    },
    {
     "data": {
      "application/vnd.jupyter.widget-view+json": {
       "model_id": "fb02117a62ef4085aed8a858f19a4728",
       "version_major": 2,
       "version_minor": 0
      },
      "text/plain": [
       "  0%|          | 0/7 [00:00<?, ?it/s]"
      ]
     },
     "metadata": {},
     "output_type": "display_data"
    },
    {
     "name": "stdout",
     "output_type": "stream",
     "text": [
      "44/44 [==============================] - 0s 628us/step - loss: 0.8540 - accuracy: 0.4920\n",
      "27/27 [==============================] - 0s 539us/step\n",
      "27/27 [==============================] - 1s 654us/step - loss: 1.8134 - accuracy: 0.7639\n"
     ]
    },
    {
     "data": {
      "application/vnd.jupyter.widget-view+json": {
       "model_id": "f1015bf3e03d4f68aecdb7cee895399f",
       "version_major": 2,
       "version_minor": 0
      },
      "text/plain": [
       "  0%|          | 0/7 [00:00<?, ?it/s]"
      ]
     },
     "metadata": {},
     "output_type": "display_data"
    },
    {
     "name": "stdout",
     "output_type": "stream",
     "text": [
      "44/44 [==============================] - 0s 628us/step - loss: 0.8795 - accuracy: 0.4559\n",
      "27/27 [==============================] - 0s 500us/step\n",
      "27/27 [==============================] - 1s 654us/step - loss: 1.2101 - accuracy: 0.7627\n"
     ]
    },
    {
     "data": {
      "application/vnd.jupyter.widget-view+json": {
       "model_id": "ca9a9f9e81e644c0a4ec5d0e62cbb9f0",
       "version_major": 2,
       "version_minor": 0
      },
      "text/plain": [
       "  0%|          | 0/7 [00:00<?, ?it/s]"
      ]
     },
     "metadata": {},
     "output_type": "display_data"
    },
    {
     "name": "stdout",
     "output_type": "stream",
     "text": [
      "44/44 [==============================] - 0s 628us/step - loss: 0.8471 - accuracy: 0.5152\n",
      "27/27 [==============================] - 0s 539us/step\n",
      "27/27 [==============================] - 1s 654us/step - loss: 1.4507 - accuracy: 0.7662\n"
     ]
    },
    {
     "data": {
      "application/vnd.jupyter.widget-view+json": {
       "model_id": "7c4762a52fc64d04b784d5e77b0629d7",
       "version_major": 2,
       "version_minor": 0
      },
      "text/plain": [
       "  0%|          | 0/7 [00:00<?, ?it/s]"
      ]
     },
     "metadata": {},
     "output_type": "display_data"
    },
    {
     "name": "stdout",
     "output_type": "stream",
     "text": [
      "44/44 [==============================] - 0s 652us/step - loss: 0.8134 - accuracy: 0.4884\n",
      "27/27 [==============================] - 0s 539us/step\n",
      "27/27 [==============================] - 1s 654us/step - loss: 1.4163 - accuracy: 0.7697\n"
     ]
    },
    {
     "data": {
      "application/vnd.jupyter.widget-view+json": {
       "model_id": "fafb864569514b80b01a5f11d92edd7b",
       "version_major": 2,
       "version_minor": 0
      },
      "text/plain": [
       "  0%|          | 0/7 [00:00<?, ?it/s]"
      ]
     },
     "metadata": {},
     "output_type": "display_data"
    },
    {
     "name": "stdout",
     "output_type": "stream",
     "text": [
      "44/44 [==============================] - 0s 628us/step - loss: 1.2588 - accuracy: 0.4978\n",
      "27/27 [==============================] - 0s 539us/step\n",
      "27/27 [==============================] - 1s 654us/step - loss: 2.9856 - accuracy: 0.7708\n"
     ]
    },
    {
     "data": {
      "application/vnd.jupyter.widget-view+json": {
       "model_id": "0e9e17a5004a4c118a1a060f380a0be0",
       "version_major": 2,
       "version_minor": 0
      },
      "text/plain": [
       "  0%|          | 0/7 [00:00<?, ?it/s]"
      ]
     },
     "metadata": {},
     "output_type": "display_data"
    },
    {
     "name": "stdout",
     "output_type": "stream",
     "text": [
      "44/44 [==============================] - 0s 628us/step - loss: 2.2284 - accuracy: 0.5058\n",
      "27/27 [==============================] - 0s 539us/step\n",
      "27/27 [==============================] - 1s 654us/step - loss: 4.7098 - accuracy: 0.7708\n"
     ]
    },
    {
     "data": {
      "application/vnd.jupyter.widget-view+json": {
       "model_id": "a184922ee1bf4eb584c16e88984b3554",
       "version_major": 2,
       "version_minor": 0
      },
      "text/plain": [
       "  0%|          | 0/7 [00:00<?, ?it/s]"
      ]
     },
     "metadata": {},
     "output_type": "display_data"
    },
    {
     "name": "stdout",
     "output_type": "stream",
     "text": [
      "44/44 [==============================] - 0s 628us/step - loss: 0.8325 - accuracy: 0.4573\n",
      "27/27 [==============================] - 0s 539us/step\n",
      "27/27 [==============================] - 1s 616us/step - loss: 1.2275 - accuracy: 0.7755\n"
     ]
    },
    {
     "data": {
      "application/vnd.jupyter.widget-view+json": {
       "model_id": "9c692f80fdd64144b77ed042b480e3ff",
       "version_major": 2,
       "version_minor": 0
      },
      "text/plain": [
       "  0%|          | 0/7 [00:00<?, ?it/s]"
      ]
     },
     "metadata": {},
     "output_type": "display_data"
    },
    {
     "name": "stdout",
     "output_type": "stream",
     "text": [
      "44/44 [==============================] - 0s 628us/step - loss: 0.9444 - accuracy: 0.5036\n",
      "27/27 [==============================] - 0s 539us/step\n",
      "27/27 [==============================] - 1s 654us/step - loss: 2.1031 - accuracy: 0.7789\n"
     ]
    },
    {
     "data": {
      "application/vnd.jupyter.widget-view+json": {
       "model_id": "3c9fc4bcac6d48d992092fbe61d8307a",
       "version_major": 2,
       "version_minor": 0
      },
      "text/plain": [
       "  0%|          | 0/7 [00:00<?, ?it/s]"
      ]
     },
     "metadata": {},
     "output_type": "display_data"
    },
    {
     "name": "stdout",
     "output_type": "stream",
     "text": [
      "44/44 [==============================] - 0s 628us/step - loss: 0.9600 - accuracy: 0.5072\n",
      "27/27 [==============================] - 0s 500us/step\n",
      "27/27 [==============================] - 1s 654us/step - loss: 2.0667 - accuracy: 0.7824\n"
     ]
    },
    {
     "data": {
      "application/vnd.jupyter.widget-view+json": {
       "model_id": "75347cd3899240e6a344db2c85428ff2",
       "version_major": 2,
       "version_minor": 0
      },
      "text/plain": [
       "  0%|          | 0/7 [00:00<?, ?it/s]"
      ]
     },
     "metadata": {},
     "output_type": "display_data"
    },
    {
     "name": "stdout",
     "output_type": "stream",
     "text": [
      "44/44 [==============================] - 0s 652us/step - loss: 1.0028 - accuracy: 0.4768\n",
      "27/27 [==============================] - 0s 539us/step\n",
      "27/27 [==============================] - 1s 616us/step - loss: 1.6730 - accuracy: 0.7870\n"
     ]
    },
    {
     "data": {
      "application/vnd.jupyter.widget-view+json": {
       "model_id": "b72a5fb817e7445e9229c40283684856",
       "version_major": 2,
       "version_minor": 0
      },
      "text/plain": [
       "  0%|          | 0/7 [00:00<?, ?it/s]"
      ]
     },
     "metadata": {},
     "output_type": "display_data"
    },
    {
     "name": "stdout",
     "output_type": "stream",
     "text": [
      "44/44 [==============================] - 0s 618us/step - loss: 1.3239 - accuracy: 0.5036\n",
      "27/27 [==============================] - 0s 500us/step\n",
      "27/27 [==============================] - 1s 654us/step - loss: 0.7387 - accuracy: 0.7870\n"
     ]
    },
    {
     "data": {
      "application/vnd.jupyter.widget-view+json": {
       "model_id": "ea596aa30e4449d18e762b371d9bf2a8",
       "version_major": 2,
       "version_minor": 0
      },
      "text/plain": [
       "  0%|          | 0/7 [00:00<?, ?it/s]"
      ]
     },
     "metadata": {},
     "output_type": "display_data"
    },
    {
     "name": "stdout",
     "output_type": "stream",
     "text": [
      "44/44 [==============================] - 0s 628us/step - loss: 0.7748 - accuracy: 0.5376\n",
      "27/27 [==============================] - 0s 539us/step\n",
      "27/27 [==============================] - 1s 693us/step - loss: 1.5660 - accuracy: 0.7928\n"
     ]
    },
    {
     "data": {
      "application/vnd.jupyter.widget-view+json": {
       "model_id": "a7fca1f9708e43c6a7c4c20b980f5725",
       "version_major": 2,
       "version_minor": 0
      },
      "text/plain": [
       "  0%|          | 0/7 [00:00<?, ?it/s]"
      ]
     },
     "metadata": {},
     "output_type": "display_data"
    },
    {
     "name": "stdout",
     "output_type": "stream",
     "text": [
      "44/44 [==============================] - 0s 628us/step - loss: 0.8701 - accuracy: 0.4978\n",
      "27/27 [==============================] - 0s 616us/step\n",
      "27/27 [==============================] - 1s 654us/step - loss: 1.5821 - accuracy: 0.7986\n"
     ]
    },
    {
     "data": {
      "application/vnd.jupyter.widget-view+json": {
       "model_id": "e16b427ac53c4b27930b884c6c1f70df",
       "version_major": 2,
       "version_minor": 0
      },
      "text/plain": [
       "  0%|          | 0/7 [00:00<?, ?it/s]"
      ]
     },
     "metadata": {},
     "output_type": "display_data"
    },
    {
     "name": "stdout",
     "output_type": "stream",
     "text": [
      "44/44 [==============================] - 0s 652us/step - loss: 0.8736 - accuracy: 0.4667\n",
      "27/27 [==============================] - 0s 500us/step\n",
      "27/27 [==============================] - 1s 654us/step - loss: 1.3841 - accuracy: 0.8056\n"
     ]
    },
    {
     "data": {
      "application/vnd.jupyter.widget-view+json": {
       "model_id": "c517f2dbb23e444cba30bceb81c45e20",
       "version_major": 2,
       "version_minor": 0
      },
      "text/plain": [
       "  0%|          | 0/7 [00:00<?, ?it/s]"
      ]
     },
     "metadata": {},
     "output_type": "display_data"
    },
    {
     "name": "stdout",
     "output_type": "stream",
     "text": [
      "44/44 [==============================] - 0s 628us/step - loss: 0.8717 - accuracy: 0.4522\n",
      "27/27 [==============================] - 0s 500us/step\n",
      "27/27 [==============================] - 1s 654us/step - loss: 1.1206 - accuracy: 0.8079\n"
     ]
    },
    {
     "data": {
      "application/vnd.jupyter.widget-view+json": {
       "model_id": "ff2f2ddb6f184da3a29b4296a201a685",
       "version_major": 2,
       "version_minor": 0
      },
      "text/plain": [
       "  0%|          | 0/7 [00:00<?, ?it/s]"
      ]
     },
     "metadata": {},
     "output_type": "display_data"
    },
    {
     "name": "stdout",
     "output_type": "stream",
     "text": [
      "44/44 [==============================] - 0s 605us/step - loss: 1.3011 - accuracy: 0.4877\n",
      "27/27 [==============================] - 0s 577us/step\n",
      "27/27 [==============================] - 1s 654us/step - loss: 2.5239 - accuracy: 0.8171\n"
     ]
    },
    {
     "data": {
      "application/vnd.jupyter.widget-view+json": {
       "model_id": "2e4c0a2759a74d799c3acedd68061b9d",
       "version_major": 2,
       "version_minor": 0
      },
      "text/plain": [
       "  0%|          | 0/7 [00:00<?, ?it/s]"
      ]
     },
     "metadata": {},
     "output_type": "display_data"
    },
    {
     "name": "stdout",
     "output_type": "stream",
     "text": [
      "44/44 [==============================] - 0s 652us/step - loss: 1.2313 - accuracy: 0.5109\n",
      "27/27 [==============================] - 0s 539us/step\n",
      "27/27 [==============================] - 1s 693us/step - loss: 2.6506 - accuracy: 0.8241\n"
     ]
    },
    {
     "data": {
      "application/vnd.jupyter.widget-view+json": {
       "model_id": "42cb088643804aec8ffc053f6eefc7f9",
       "version_major": 2,
       "version_minor": 0
      },
      "text/plain": [
       "  0%|          | 0/7 [00:00<?, ?it/s]"
      ]
     },
     "metadata": {},
     "output_type": "display_data"
    },
    {
     "name": "stdout",
     "output_type": "stream",
     "text": [
      "44/44 [==============================] - 0s 652us/step - loss: 1.1459 - accuracy: 0.4848\n",
      "27/27 [==============================] - 0s 500us/step\n",
      "27/27 [==============================] - 1s 654us/step - loss: 0.8174 - accuracy: 0.8252\n"
     ]
    },
    {
     "data": {
      "application/vnd.jupyter.widget-view+json": {
       "model_id": "4a6937fb964b48278f31c0d4e0baef98",
       "version_major": 2,
       "version_minor": 0
      },
      "text/plain": [
       "  0%|          | 0/7 [00:00<?, ?it/s]"
      ]
     },
     "metadata": {},
     "output_type": "display_data"
    },
    {
     "name": "stdout",
     "output_type": "stream",
     "text": [
      "44/44 [==============================] - 0s 628us/step - loss: 0.8410 - accuracy: 0.5268\n",
      "27/27 [==============================] - 0s 539us/step\n",
      "27/27 [==============================] - 1s 654us/step - loss: 1.3312 - accuracy: 0.8299\n"
     ]
    },
    {
     "data": {
      "application/vnd.jupyter.widget-view+json": {
       "model_id": "9286d996485b4f528b5180ff8cccfe7b",
       "version_major": 2,
       "version_minor": 0
      },
      "text/plain": [
       "  0%|          | 0/7 [00:00<?, ?it/s]"
      ]
     },
     "metadata": {},
     "output_type": "display_data"
    },
    {
     "name": "stdout",
     "output_type": "stream",
     "text": [
      "44/44 [==============================] - 0s 698us/step - loss: 0.9842 - accuracy: 0.4884\n",
      "27/27 [==============================] - 0s 577us/step\n",
      "27/27 [==============================] - 1s 693us/step - loss: 1.7888 - accuracy: 0.8322\n"
     ]
    },
    {
     "data": {
      "application/vnd.jupyter.widget-view+json": {
       "model_id": "e0116e8bb31140d2bff9366535e5b74e",
       "version_major": 2,
       "version_minor": 0
      },
      "text/plain": [
       "  0%|          | 0/7 [00:00<?, ?it/s]"
      ]
     },
     "metadata": {},
     "output_type": "display_data"
    },
    {
     "name": "stdout",
     "output_type": "stream",
     "text": [
      "44/44 [==============================] - 0s 628us/step - loss: 0.9500 - accuracy: 0.5355\n",
      "27/27 [==============================] - 0s 539us/step\n",
      "27/27 [==============================] - 1s 654us/step - loss: 0.9901 - accuracy: 0.8356\n"
     ]
    },
    {
     "data": {
      "application/vnd.jupyter.widget-view+json": {
       "model_id": "aed1f9dbbe4d4ec6ab6269deedda4fa7",
       "version_major": 2,
       "version_minor": 0
      },
      "text/plain": [
       "  0%|          | 0/7 [00:00<?, ?it/s]"
      ]
     },
     "metadata": {},
     "output_type": "display_data"
    },
    {
     "name": "stdout",
     "output_type": "stream",
     "text": [
      "44/44 [==============================] - 0s 652us/step - loss: 0.9182 - accuracy: 0.5174\n",
      "27/27 [==============================] - 0s 500us/step\n",
      "27/27 [==============================] - 1s 654us/step - loss: 1.0414 - accuracy: 0.8426\n"
     ]
    },
    {
     "data": {
      "application/vnd.jupyter.widget-view+json": {
       "model_id": "d4631827fc764d9b8b2aff35b17575b7",
       "version_major": 2,
       "version_minor": 0
      },
      "text/plain": [
       "  0%|          | 0/7 [00:00<?, ?it/s]"
      ]
     },
     "metadata": {},
     "output_type": "display_data"
    },
    {
     "name": "stdout",
     "output_type": "stream",
     "text": [
      "44/44 [==============================] - 0s 675us/step - loss: 0.8213 - accuracy: 0.5224\n",
      "27/27 [==============================] - 0s 500us/step\n",
      "27/27 [==============================] - 1s 693us/step - loss: 1.3316 - accuracy: 0.8484\n"
     ]
    },
    {
     "data": {
      "application/vnd.jupyter.widget-view+json": {
       "model_id": "a601d100e1ae40e6a590f24c1784f10e",
       "version_major": 2,
       "version_minor": 0
      },
      "text/plain": [
       "  0%|          | 0/7 [00:00<?, ?it/s]"
      ]
     },
     "metadata": {},
     "output_type": "display_data"
    },
    {
     "name": "stdout",
     "output_type": "stream",
     "text": [
      "44/44 [==============================] - 0s 628us/step - loss: 0.9403 - accuracy: 0.4776\n",
      "27/27 [==============================] - 0s 539us/step\n",
      "27/27 [==============================] - 1s 654us/step - loss: 0.9776 - accuracy: 0.8507\n"
     ]
    },
    {
     "data": {
      "application/vnd.jupyter.widget-view+json": {
       "model_id": "6f77312e6b1d4e3c9622df1006afebe8",
       "version_major": 2,
       "version_minor": 0
      },
      "text/plain": [
       "  0%|          | 0/7 [00:00<?, ?it/s]"
      ]
     },
     "metadata": {},
     "output_type": "display_data"
    },
    {
     "name": "stdout",
     "output_type": "stream",
     "text": [
      "44/44 [==============================] - 0s 675us/step - loss: 0.9152 - accuracy: 0.5000\n",
      "27/27 [==============================] - 0s 577us/step\n",
      "27/27 [==============================] - 1s 654us/step - loss: 1.8754 - accuracy: 0.8542\n"
     ]
    },
    {
     "data": {
      "application/vnd.jupyter.widget-view+json": {
       "model_id": "21e8030e506d47da9dd9dc060f03596c",
       "version_major": 2,
       "version_minor": 0
      },
      "text/plain": [
       "  0%|          | 0/7 [00:00<?, ?it/s]"
      ]
     },
     "metadata": {},
     "output_type": "display_data"
    },
    {
     "name": "stdout",
     "output_type": "stream",
     "text": [
      "44/44 [==============================] - 0s 675us/step - loss: 0.8698 - accuracy: 0.5101\n",
      "27/27 [==============================] - 0s 539us/step\n",
      "27/27 [==============================] - 1s 654us/step - loss: 1.4385 - accuracy: 0.8519\n"
     ]
    },
    {
     "data": {
      "application/vnd.jupyter.widget-view+json": {
       "model_id": "eea0bf835ec447e989233b2850bb7538",
       "version_major": 2,
       "version_minor": 0
      },
      "text/plain": [
       "  0%|          | 0/7 [00:00<?, ?it/s]"
      ]
     },
     "metadata": {},
     "output_type": "display_data"
    },
    {
     "name": "stdout",
     "output_type": "stream",
     "text": [
      "44/44 [==============================] - 0s 675us/step - loss: 0.9575 - accuracy: 0.4660\n",
      "27/27 [==============================] - 0s 539us/step\n",
      "27/27 [==============================] - 1s 693us/step - loss: 1.3666 - accuracy: 0.8542\n"
     ]
    },
    {
     "data": {
      "application/vnd.jupyter.widget-view+json": {
       "model_id": "d24250d32c0249b3b6e191624af04b50",
       "version_major": 2,
       "version_minor": 0
      },
      "text/plain": [
       "  0%|          | 0/7 [00:00<?, ?it/s]"
      ]
     },
     "metadata": {},
     "output_type": "display_data"
    },
    {
     "name": "stdout",
     "output_type": "stream",
     "text": [
      "44/44 [==============================] - 0s 579us/step - loss: 1.0642 - accuracy: 0.5145\n",
      "27/27 [==============================] - 0s 500us/step\n",
      "27/27 [==============================] - 1s 616us/step - loss: 2.3998 - accuracy: 0.8542\n"
     ]
    },
    {
     "data": {
      "application/vnd.jupyter.widget-view+json": {
       "model_id": "4c5ec045c97e45fb9edb5174891a17eb",
       "version_major": 2,
       "version_minor": 0
      },
      "text/plain": [
       "  0%|          | 0/7 [00:00<?, ?it/s]"
      ]
     },
     "metadata": {},
     "output_type": "display_data"
    },
    {
     "name": "stdout",
     "output_type": "stream",
     "text": [
      "44/44 [==============================] - 0s 582us/step - loss: 1.1786 - accuracy: 0.4942\n",
      "27/27 [==============================] - 0s 500us/step\n",
      "27/27 [==============================] - 1s 616us/step - loss: 2.4910 - accuracy: 0.8565\n"
     ]
    },
    {
     "data": {
      "application/vnd.jupyter.widget-view+json": {
       "model_id": "8f363a88765a48a7968a8505ef2375ad",
       "version_major": 2,
       "version_minor": 0
      },
      "text/plain": [
       "  0%|          | 0/7 [00:00<?, ?it/s]"
      ]
     },
     "metadata": {},
     "output_type": "display_data"
    },
    {
     "name": "stdout",
     "output_type": "stream",
     "text": [
      "44/44 [==============================] - 0s 582us/step - loss: 0.8672 - accuracy: 0.5318\n",
      "27/27 [==============================] - 0s 500us/step\n",
      "27/27 [==============================] - 1s 616us/step - loss: 1.2953 - accuracy: 0.8646\n"
     ]
    },
    {
     "data": {
      "application/vnd.jupyter.widget-view+json": {
       "model_id": "d89c04743a1d40e0914dcb22120bf7e6",
       "version_major": 2,
       "version_minor": 0
      },
      "text/plain": [
       "  0%|          | 0/7 [00:00<?, ?it/s]"
      ]
     },
     "metadata": {},
     "output_type": "display_data"
    },
    {
     "name": "stdout",
     "output_type": "stream",
     "text": [
      "44/44 [==============================] - 0s 582us/step - loss: 1.0634 - accuracy: 0.4978\n",
      "27/27 [==============================] - 0s 500us/step\n",
      "27/27 [==============================] - 1s 616us/step - loss: 2.0746 - accuracy: 0.8657\n"
     ]
    },
    {
     "data": {
      "application/vnd.jupyter.widget-view+json": {
       "model_id": "f1feac2017fb4b488eecceec14597f8f",
       "version_major": 2,
       "version_minor": 0
      },
      "text/plain": [
       "  0%|          | 0/7 [00:00<?, ?it/s]"
      ]
     },
     "metadata": {},
     "output_type": "display_data"
    },
    {
     "name": "stdout",
     "output_type": "stream",
     "text": [
      "44/44 [==============================] - 0s 618us/step - loss: 1.0081 - accuracy: 0.4978\n",
      "27/27 [==============================] - 0s 539us/step\n",
      "27/27 [==============================] - 1s 636us/step - loss: 1.7572 - accuracy: 0.8657\n"
     ]
    },
    {
     "data": {
      "application/vnd.jupyter.widget-view+json": {
       "model_id": "de187c11b3164e54889ac52c90e55377",
       "version_major": 2,
       "version_minor": 0
      },
      "text/plain": [
       "  0%|          | 0/7 [00:00<?, ?it/s]"
      ]
     },
     "metadata": {},
     "output_type": "display_data"
    },
    {
     "name": "stdout",
     "output_type": "stream",
     "text": [
      "44/44 [==============================] - 0s 582us/step - loss: 0.7873 - accuracy: 0.4935\n",
      "27/27 [==============================] - 0s 462us/step\n",
      "27/27 [==============================] - 1s 616us/step - loss: 1.1238 - accuracy: 0.8657\n"
     ]
    },
    {
     "data": {
      "application/vnd.jupyter.widget-view+json": {
       "model_id": "4cff29bab3824a0896b1b67cffca6121",
       "version_major": 2,
       "version_minor": 0
      },
      "text/plain": [
       "  0%|          | 0/7 [00:00<?, ?it/s]"
      ]
     },
     "metadata": {},
     "output_type": "display_data"
    },
    {
     "name": "stdout",
     "output_type": "stream",
     "text": [
      "44/44 [==============================] - 0s 605us/step - loss: 1.1147 - accuracy: 0.5340\n",
      "27/27 [==============================] - 0s 500us/step\n",
      "27/27 [==============================] - 1s 654us/step - loss: 2.3859 - accuracy: 0.8681\n"
     ]
    },
    {
     "data": {
      "application/vnd.jupyter.widget-view+json": {
       "model_id": "d42dc176608143f795824e27135531e5",
       "version_major": 2,
       "version_minor": 0
      },
      "text/plain": [
       "  0%|          | 0/7 [00:00<?, ?it/s]"
      ]
     },
     "metadata": {},
     "output_type": "display_data"
    },
    {
     "name": "stdout",
     "output_type": "stream",
     "text": [
      "44/44 [==============================] - 0s 675us/step - loss: 0.8365 - accuracy: 0.5094\n",
      "27/27 [==============================] - 0s 654us/step\n",
      "27/27 [==============================] - 1s 616us/step - loss: 1.2355 - accuracy: 0.8704\n"
     ]
    },
    {
     "data": {
      "application/vnd.jupyter.widget-view+json": {
       "model_id": "7fe459b6307f4713bf1d56ab4bddcffc",
       "version_major": 2,
       "version_minor": 0
      },
      "text/plain": [
       "  0%|          | 0/7 [00:00<?, ?it/s]"
      ]
     },
     "metadata": {},
     "output_type": "display_data"
    },
    {
     "name": "stdout",
     "output_type": "stream",
     "text": [
      "44/44 [==============================] - 0s 605us/step - loss: 1.0438 - accuracy: 0.4805\n",
      "27/27 [==============================] - 0s 482us/step\n",
      "27/27 [==============================] - 1s 616us/step - loss: 1.5098 - accuracy: 0.8715\n"
     ]
    },
    {
     "data": {
      "application/vnd.jupyter.widget-view+json": {
       "model_id": "335c8a4cbfb9478dad5945461cb209c3",
       "version_major": 2,
       "version_minor": 0
      },
      "text/plain": [
       "  0%|          | 0/7 [00:00<?, ?it/s]"
      ]
     },
     "metadata": {},
     "output_type": "display_data"
    },
    {
     "name": "stdout",
     "output_type": "stream",
     "text": [
      "44/44 [==============================] - 0s 582us/step - loss: 1.5225 - accuracy: 0.5029\n",
      "27/27 [==============================] - 0s 500us/step\n",
      "27/27 [==============================] - 1s 616us/step - loss: 3.2279 - accuracy: 0.8750\n"
     ]
    },
    {
     "data": {
      "application/vnd.jupyter.widget-view+json": {
       "model_id": "d712c89a0abf45c096eb9747c7b0bfb8",
       "version_major": 2,
       "version_minor": 0
      },
      "text/plain": [
       "  0%|          | 0/7 [00:00<?, ?it/s]"
      ]
     },
     "metadata": {},
     "output_type": "display_data"
    },
    {
     "name": "stdout",
     "output_type": "stream",
     "text": [
      "44/44 [==============================] - 0s 605us/step - loss: 0.8302 - accuracy: 0.5181\n",
      "27/27 [==============================] - 0s 500us/step\n",
      "27/27 [==============================] - 1s 616us/step - loss: 1.4936 - accuracy: 0.8750\n"
     ]
    },
    {
     "data": {
      "application/vnd.jupyter.widget-view+json": {
       "model_id": "8fa36d00b3b0465e8021e1d7dcff2b1f",
       "version_major": 2,
       "version_minor": 0
      },
      "text/plain": [
       "  0%|          | 0/7 [00:00<?, ?it/s]"
      ]
     },
     "metadata": {},
     "output_type": "display_data"
    },
    {
     "name": "stdout",
     "output_type": "stream",
     "text": [
      "44/44 [==============================] - 0s 605us/step - loss: 1.6115 - accuracy: 0.4986\n",
      "27/27 [==============================] - 0s 539us/step\n",
      "27/27 [==============================] - 1s 616us/step - loss: 0.4761 - accuracy: 0.8738\n"
     ]
    },
    {
     "data": {
      "application/vnd.jupyter.widget-view+json": {
       "model_id": "f530310e068c40ef86e8f7b927fea600",
       "version_major": 2,
       "version_minor": 0
      },
      "text/plain": [
       "  0%|          | 0/7 [00:00<?, ?it/s]"
      ]
     },
     "metadata": {},
     "output_type": "display_data"
    },
    {
     "name": "stdout",
     "output_type": "stream",
     "text": [
      "44/44 [==============================] - 0s 605us/step - loss: 1.7683 - accuracy: 0.4993\n",
      "27/27 [==============================] - 0s 539us/step\n",
      "27/27 [==============================] - 1s 616us/step - loss: 3.4584 - accuracy: 0.8738\n"
     ]
    },
    {
     "data": {
      "application/vnd.jupyter.widget-view+json": {
       "model_id": "05def41ccf9d40dba160a70ed5b508bb",
       "version_major": 2,
       "version_minor": 0
      },
      "text/plain": [
       "  0%|          | 0/7 [00:00<?, ?it/s]"
      ]
     },
     "metadata": {},
     "output_type": "display_data"
    },
    {
     "name": "stdout",
     "output_type": "stream",
     "text": [
      "44/44 [==============================] - 1s 628us/step - loss: 0.7093 - accuracy: 0.5535\n",
      "27/27 [==============================] - 0s 500us/step\n",
      "27/27 [==============================] - 1s 616us/step - loss: 1.2358 - accuracy: 0.8738\n"
     ]
    },
    {
     "data": {
      "application/vnd.jupyter.widget-view+json": {
       "model_id": "1fac824da87d4ea58c75fdc52b1ba446",
       "version_major": 2,
       "version_minor": 0
      },
      "text/plain": [
       "  0%|          | 0/7 [00:00<?, ?it/s]"
      ]
     },
     "metadata": {},
     "output_type": "display_data"
    },
    {
     "name": "stdout",
     "output_type": "stream",
     "text": [
      "44/44 [==============================] - 0s 605us/step - loss: 1.1621 - accuracy: 0.4920\n",
      "27/27 [==============================] - 0s 500us/step\n",
      "27/27 [==============================] - 1s 616us/step - loss: 2.2667 - accuracy: 0.8750\n"
     ]
    },
    {
     "data": {
      "application/vnd.jupyter.widget-view+json": {
       "model_id": "4f9d5a58c67841069d46b39730722305",
       "version_major": 2,
       "version_minor": 0
      },
      "text/plain": [
       "  0%|          | 0/7 [00:00<?, ?it/s]"
      ]
     },
     "metadata": {},
     "output_type": "display_data"
    },
    {
     "name": "stdout",
     "output_type": "stream",
     "text": [
      "44/44 [==============================] - 0s 582us/step - loss: 0.8256 - accuracy: 0.5528\n",
      "27/27 [==============================] - 0s 462us/step\n",
      "27/27 [==============================] - 1s 598us/step - loss: 1.6571 - accuracy: 0.8773\n"
     ]
    },
    {
     "data": {
      "application/vnd.jupyter.widget-view+json": {
       "model_id": "3f6b2293202c418faf36149cc701dc68",
       "version_major": 2,
       "version_minor": 0
      },
      "text/plain": [
       "  0%|          | 0/7 [00:00<?, ?it/s]"
      ]
     },
     "metadata": {},
     "output_type": "display_data"
    },
    {
     "name": "stdout",
     "output_type": "stream",
     "text": [
      "44/44 [==============================] - 0s 605us/step - loss: 0.9483 - accuracy: 0.5275\n",
      "27/27 [==============================] - 0s 500us/step\n",
      "27/27 [==============================] - 1s 616us/step - loss: 1.4896 - accuracy: 0.8762\n"
     ]
    },
    {
     "data": {
      "application/vnd.jupyter.widget-view+json": {
       "model_id": "b40ada1f748f4f3a8c58bf4fc6cec135",
       "version_major": 2,
       "version_minor": 0
      },
      "text/plain": [
       "  0%|          | 0/7 [00:00<?, ?it/s]"
      ]
     },
     "metadata": {},
     "output_type": "display_data"
    },
    {
     "name": "stdout",
     "output_type": "stream",
     "text": [
      "44/44 [==============================] - 0s 605us/step - loss: 0.8965 - accuracy: 0.4964\n",
      "27/27 [==============================] - 0s 500us/step\n",
      "27/27 [==============================] - 1s 616us/step - loss: 1.6420 - accuracy: 0.8785\n"
     ]
    },
    {
     "data": {
      "application/vnd.jupyter.widget-view+json": {
       "model_id": "dcbf0589271943ae921bdf6ef78429a7",
       "version_major": 2,
       "version_minor": 0
      },
      "text/plain": [
       "  0%|          | 0/7 [00:00<?, ?it/s]"
      ]
     },
     "metadata": {},
     "output_type": "display_data"
    },
    {
     "name": "stdout",
     "output_type": "stream",
     "text": [
      "44/44 [==============================] - 0s 605us/step - loss: 1.0265 - accuracy: 0.5166\n",
      "27/27 [==============================] - 0s 500us/step\n",
      "27/27 [==============================] - 1s 616us/step - loss: 1.1629 - accuracy: 0.8831\n"
     ]
    },
    {
     "data": {
      "application/vnd.jupyter.widget-view+json": {
       "model_id": "71b3286e9a1043cb82e289009536cbbf",
       "version_major": 2,
       "version_minor": 0
      },
      "text/plain": [
       "  0%|          | 0/7 [00:00<?, ?it/s]"
      ]
     },
     "metadata": {},
     "output_type": "display_data"
    },
    {
     "name": "stdout",
     "output_type": "stream",
     "text": [
      "44/44 [==============================] - 0s 815us/step - loss: 0.9722 - accuracy: 0.5282\n",
      "27/27 [==============================] - 0s 500us/step\n",
      "27/27 [==============================] - 1s 616us/step - loss: 1.7076 - accuracy: 0.8831\n"
     ]
    },
    {
     "data": {
      "application/vnd.jupyter.widget-view+json": {
       "model_id": "4eef27ff7d11440bb670c00d16dce74b",
       "version_major": 2,
       "version_minor": 0
      },
      "text/plain": [
       "  0%|          | 0/7 [00:00<?, ?it/s]"
      ]
     },
     "metadata": {},
     "output_type": "display_data"
    },
    {
     "name": "stdout",
     "output_type": "stream",
     "text": [
      "44/44 [==============================] - 0s 605us/step - loss: 1.7028 - accuracy: 0.5014\n",
      "27/27 [==============================] - 0s 500us/step\n",
      "27/27 [==============================] - 1s 654us/step - loss: 3.4185 - accuracy: 0.8819\n"
     ]
    },
    {
     "data": {
      "application/vnd.jupyter.widget-view+json": {
       "model_id": "1106605114fa4316a92735efc6b9070c",
       "version_major": 2,
       "version_minor": 0
      },
      "text/plain": [
       "  0%|          | 0/7 [00:00<?, ?it/s]"
      ]
     },
     "metadata": {},
     "output_type": "display_data"
    },
    {
     "name": "stdout",
     "output_type": "stream",
     "text": [
      "44/44 [==============================] - 0s 628us/step - loss: 1.2644 - accuracy: 0.4790\n",
      "27/27 [==============================] - 0s 500us/step\n",
      "27/27 [==============================] - 1s 616us/step - loss: 0.5687 - accuracy: 0.8808\n"
     ]
    },
    {
     "data": {
      "application/vnd.jupyter.widget-view+json": {
       "model_id": "8bbebc97a7f44cba9635706d5e65839b",
       "version_major": 2,
       "version_minor": 0
      },
      "text/plain": [
       "  0%|          | 0/7 [00:00<?, ?it/s]"
      ]
     },
     "metadata": {},
     "output_type": "display_data"
    },
    {
     "name": "stdout",
     "output_type": "stream",
     "text": [
      "44/44 [==============================] - 0s 652us/step - loss: 0.9699 - accuracy: 0.5152\n",
      "27/27 [==============================] - 0s 539us/step\n",
      "27/27 [==============================] - 1s 654us/step - loss: 2.0679 - accuracy: 0.8866\n"
     ]
    },
    {
     "data": {
      "application/vnd.jupyter.widget-view+json": {
       "model_id": "10e3b17aca6e47ca8e293634ad5605ce",
       "version_major": 2,
       "version_minor": 0
      },
      "text/plain": [
       "  0%|          | 0/7 [00:00<?, ?it/s]"
      ]
     },
     "metadata": {},
     "output_type": "display_data"
    },
    {
     "name": "stdout",
     "output_type": "stream",
     "text": [
      "44/44 [==============================] - 0s 628us/step - loss: 0.9020 - accuracy: 0.4783\n",
      "27/27 [==============================] - 0s 500us/step\n",
      "27/27 [==============================] - 1s 616us/step - loss: 0.9083 - accuracy: 0.8877\n"
     ]
    },
    {
     "data": {
      "application/vnd.jupyter.widget-view+json": {
       "model_id": "b900fd6d0fd84af4971f899ea6550eeb",
       "version_major": 2,
       "version_minor": 0
      },
      "text/plain": [
       "  0%|          | 0/7 [00:00<?, ?it/s]"
      ]
     },
     "metadata": {},
     "output_type": "display_data"
    },
    {
     "name": "stdout",
     "output_type": "stream",
     "text": [
      "44/44 [==============================] - 1s 652us/step - loss: 0.9812 - accuracy: 0.5376\n",
      "27/27 [==============================] - 0s 462us/step\n",
      "27/27 [==============================] - 1s 577us/step - loss: 0.7796 - accuracy: 0.8877\n"
     ]
    },
    {
     "data": {
      "application/vnd.jupyter.widget-view+json": {
       "model_id": "a008d00351a24b07a3fafc6252096760",
       "version_major": 2,
       "version_minor": 0
      },
      "text/plain": [
       "  0%|          | 0/7 [00:00<?, ?it/s]"
      ]
     },
     "metadata": {},
     "output_type": "display_data"
    },
    {
     "name": "stdout",
     "output_type": "stream",
     "text": [
      "44/44 [==============================] - 0s 605us/step - loss: 1.0597 - accuracy: 0.5051\n",
      "27/27 [==============================] - 0s 462us/step\n",
      "27/27 [==============================] - 1s 616us/step - loss: 2.0856 - accuracy: 0.8889\n"
     ]
    },
    {
     "data": {
      "application/vnd.jupyter.widget-view+json": {
       "model_id": "ad726ddc02654e0e99a287bcae01ace2",
       "version_major": 2,
       "version_minor": 0
      },
      "text/plain": [
       "  0%|          | 0/7 [00:00<?, ?it/s]"
      ]
     },
     "metadata": {},
     "output_type": "display_data"
    },
    {
     "name": "stdout",
     "output_type": "stream",
     "text": [
      "44/44 [==============================] - 0s 582us/step - loss: 0.8479 - accuracy: 0.5253\n",
      "27/27 [==============================] - 0s 462us/step\n",
      "27/27 [==============================] - 1s 616us/step - loss: 1.1503 - accuracy: 0.8866\n"
     ]
    },
    {
     "data": {
      "application/vnd.jupyter.widget-view+json": {
       "model_id": "64299762c675410091297d762dfccfbb",
       "version_major": 2,
       "version_minor": 0
      },
      "text/plain": [
       "  0%|          | 0/7 [00:00<?, ?it/s]"
      ]
     },
     "metadata": {},
     "output_type": "display_data"
    },
    {
     "name": "stdout",
     "output_type": "stream",
     "text": [
      "44/44 [==============================] - 0s 582us/step - loss: 1.1401 - accuracy: 0.5087\n",
      "27/27 [==============================] - 0s 500us/step\n",
      "27/27 [==============================] - 1s 616us/step - loss: 0.6130 - accuracy: 0.8900\n"
     ]
    },
    {
     "data": {
      "application/vnd.jupyter.widget-view+json": {
       "model_id": "6788aa1b508241088e155e5238aaea6e",
       "version_major": 2,
       "version_minor": 0
      },
      "text/plain": [
       "  0%|          | 0/7 [00:00<?, ?it/s]"
      ]
     },
     "metadata": {},
     "output_type": "display_data"
    },
    {
     "name": "stdout",
     "output_type": "stream",
     "text": [
      "44/44 [==============================] - 0s 605us/step - loss: 0.7872 - accuracy: 0.5152\n",
      "27/27 [==============================] - 0s 500us/step\n",
      "27/27 [==============================] - 1s 654us/step - loss: 0.9402 - accuracy: 0.8866\n"
     ]
    },
    {
     "data": {
      "application/vnd.jupyter.widget-view+json": {
       "model_id": "09b7e216fdaa4458876687f355892a45",
       "version_major": 2,
       "version_minor": 0
      },
      "text/plain": [
       "  0%|          | 0/7 [00:00<?, ?it/s]"
      ]
     },
     "metadata": {},
     "output_type": "display_data"
    },
    {
     "name": "stdout",
     "output_type": "stream",
     "text": [
      "44/44 [==============================] - 0s 582us/step - loss: 0.8493 - accuracy: 0.5188\n",
      "27/27 [==============================] - 0s 500us/step\n",
      "27/27 [==============================] - 1s 616us/step - loss: 1.0702 - accuracy: 0.8866\n"
     ]
    },
    {
     "data": {
      "application/vnd.jupyter.widget-view+json": {
       "model_id": "43e352ed757a4aa2b38cd01992699905",
       "version_major": 2,
       "version_minor": 0
      },
      "text/plain": [
       "  0%|          | 0/7 [00:00<?, ?it/s]"
      ]
     },
     "metadata": {},
     "output_type": "display_data"
    },
    {
     "name": "stdout",
     "output_type": "stream",
     "text": [
      "44/44 [==============================] - 0s 605us/step - loss: 0.8770 - accuracy: 0.5152\n",
      "27/27 [==============================] - 0s 462us/step\n",
      "27/27 [==============================] - 1s 616us/step - loss: 1.2086 - accuracy: 0.8877\n"
     ]
    },
    {
     "data": {
      "application/vnd.jupyter.widget-view+json": {
       "model_id": "0a494555f1dc4c28bd25582de9a71177",
       "version_major": 2,
       "version_minor": 0
      },
      "text/plain": [
       "  0%|          | 0/7 [00:00<?, ?it/s]"
      ]
     },
     "metadata": {},
     "output_type": "display_data"
    },
    {
     "name": "stdout",
     "output_type": "stream",
     "text": [
      "44/44 [==============================] - 0s 652us/step - loss: 1.3896 - accuracy: 0.4870\n",
      "27/27 [==============================] - 0s 500us/step\n",
      "27/27 [==============================] - 1s 654us/step - loss: 2.3932 - accuracy: 0.8866\n"
     ]
    },
    {
     "data": {
      "application/vnd.jupyter.widget-view+json": {
       "model_id": "d665fe37f370486a819817e829e19760",
       "version_major": 2,
       "version_minor": 0
      },
      "text/plain": [
       "  0%|          | 0/7 [00:00<?, ?it/s]"
      ]
     },
     "metadata": {},
     "output_type": "display_data"
    },
    {
     "name": "stdout",
     "output_type": "stream",
     "text": [
      "44/44 [==============================] - 0s 582us/step - loss: 1.0320 - accuracy: 0.4848\n",
      "27/27 [==============================] - 0s 462us/step\n",
      "27/27 [==============================] - 1s 616us/step - loss: 1.3930 - accuracy: 0.8866\n"
     ]
    },
    {
     "data": {
      "application/vnd.jupyter.widget-view+json": {
       "model_id": "779a2d2948c64933b3b2643c1319ed53",
       "version_major": 2,
       "version_minor": 0
      },
      "text/plain": [
       "  0%|          | 0/7 [00:00<?, ?it/s]"
      ]
     },
     "metadata": {},
     "output_type": "display_data"
    },
    {
     "name": "stdout",
     "output_type": "stream",
     "text": [
      "44/44 [==============================] - 0s 605us/step - loss: 1.5825 - accuracy: 0.5000\n",
      "27/27 [==============================] - 0s 462us/step\n",
      "27/27 [==============================] - 1s 577us/step - loss: 3.4152 - accuracy: 0.8854\n"
     ]
    },
    {
     "data": {
      "application/vnd.jupyter.widget-view+json": {
       "model_id": "cff2f8a3195e43489d03a047a007d7dd",
       "version_major": 2,
       "version_minor": 0
      },
      "text/plain": [
       "  0%|          | 0/7 [00:00<?, ?it/s]"
      ]
     },
     "metadata": {},
     "output_type": "display_data"
    },
    {
     "name": "stdout",
     "output_type": "stream",
     "text": [
      "44/44 [==============================] - 0s 605us/step - loss: 0.9474 - accuracy: 0.5043\n",
      "27/27 [==============================] - 0s 500us/step\n",
      "27/27 [==============================] - 1s 616us/step - loss: 0.7970 - accuracy: 0.8843\n"
     ]
    },
    {
     "data": {
      "application/vnd.jupyter.widget-view+json": {
       "model_id": "eafee64a6ecd40c49b8d461aa62bcec1",
       "version_major": 2,
       "version_minor": 0
      },
      "text/plain": [
       "  0%|          | 0/7 [00:00<?, ?it/s]"
      ]
     },
     "metadata": {},
     "output_type": "display_data"
    },
    {
     "name": "stdout",
     "output_type": "stream",
     "text": [
      "44/44 [==============================] - 0s 605us/step - loss: 0.7994 - accuracy: 0.5260\n",
      "27/27 [==============================] - 0s 462us/step\n",
      "27/27 [==============================] - 1s 616us/step - loss: 1.1655 - accuracy: 0.8843\n"
     ]
    },
    {
     "data": {
      "application/vnd.jupyter.widget-view+json": {
       "model_id": "9607cf0ea1944a9581d19fcebdcd0c58",
       "version_major": 2,
       "version_minor": 0
      },
      "text/plain": [
       "  0%|          | 0/7 [00:00<?, ?it/s]"
      ]
     },
     "metadata": {},
     "output_type": "display_data"
    },
    {
     "name": "stdout",
     "output_type": "stream",
     "text": [
      "44/44 [==============================] - 0s 618us/step - loss: 0.8315 - accuracy: 0.5058\n",
      "27/27 [==============================] - 0s 462us/step\n",
      "27/27 [==============================] - 1s 616us/step - loss: 0.9740 - accuracy: 0.8854\n"
     ]
    },
    {
     "data": {
      "application/vnd.jupyter.widget-view+json": {
       "model_id": "a585875833f4483fad7c6f4ff9a05574",
       "version_major": 2,
       "version_minor": 0
      },
      "text/plain": [
       "  0%|          | 0/7 [00:00<?, ?it/s]"
      ]
     },
     "metadata": {},
     "output_type": "display_data"
    },
    {
     "name": "stdout",
     "output_type": "stream",
     "text": [
      "44/44 [==============================] - 0s 605us/step - loss: 1.5981 - accuracy: 0.4978\n",
      "27/27 [==============================] - 0s 500us/step\n",
      "27/27 [==============================] - 1s 646us/step - loss: 3.4719 - accuracy: 0.8854\n"
     ]
    },
    {
     "data": {
      "application/vnd.jupyter.widget-view+json": {
       "model_id": "751374ae25fb402698ee5fe140b4c91b",
       "version_major": 2,
       "version_minor": 0
      },
      "text/plain": [
       "  0%|          | 0/7 [00:00<?, ?it/s]"
      ]
     },
     "metadata": {},
     "output_type": "display_data"
    },
    {
     "name": "stdout",
     "output_type": "stream",
     "text": [
      "44/44 [==============================] - 0s 582us/step - loss: 1.1041 - accuracy: 0.4754\n",
      "27/27 [==============================] - 0s 500us/step\n",
      "27/27 [==============================] - 1s 616us/step - loss: 0.6660 - accuracy: 0.8854\n"
     ]
    },
    {
     "data": {
      "application/vnd.jupyter.widget-view+json": {
       "model_id": "b5c2c18fe38645009b60a7c227b0a4a0",
       "version_major": 2,
       "version_minor": 0
      },
      "text/plain": [
       "  0%|          | 0/7 [00:00<?, ?it/s]"
      ]
     },
     "metadata": {},
     "output_type": "display_data"
    },
    {
     "data": {
      "text/plain": [
       "<ganblr.ganblr.GANBLR at 0x2103c5d4370>"
      ]
     },
     "execution_count": 38,
     "metadata": {},
     "output_type": "execute_result"
    }
   ],
   "source": [
    "from ganblr.ganblr import GANBLR\n",
    "model = GANBLR()\n",
    "model.fit(X_train, y_train, k=0, batch_size=32, epochs = 100)"
   ]
  },
  {
   "cell_type": "code",
   "execution_count": 39,
   "metadata": {},
   "outputs": [
    {
     "data": {
      "application/vnd.jupyter.widget-view+json": {
       "model_id": "65aa1f15250749f7b90b14d64d86bb24",
       "version_major": 2,
       "version_minor": 0
      },
      "text/plain": [
       "  0%|          | 0/7 [00:00<?, ?it/s]"
      ]
     },
     "metadata": {},
     "output_type": "display_data"
    },
    {
     "data": {
      "application/vnd.jupyter.widget-view+json": {
       "model_id": "a2cd58e914ec4f73929ad9c338ab7bbc",
       "version_major": 2,
       "version_minor": 0
      },
      "text/plain": [
       "  0%|          | 0/7 [00:00<?, ?it/s]"
      ]
     },
     "metadata": {},
     "output_type": "display_data"
    },
    {
     "data": {
      "application/vnd.jupyter.widget-view+json": {
       "model_id": "b88de0f39d9049318f623145679b88a4",
       "version_major": 2,
       "version_minor": 0
      },
      "text/plain": [
       "  0%|          | 0/7 [00:00<?, ?it/s]"
      ]
     },
     "metadata": {},
     "output_type": "display_data"
    }
   ],
   "source": [
    "acc_score_lr = model.evaluate(X_test, y_test, model='lr')\n",
    "acc_score_mlp = model.evaluate(X_test, y_test, model='mlp')\n",
    "acc_score_rf = model.evaluate(X_test, y_test, model='rf')"
   ]
  },
  {
   "cell_type": "code",
   "execution_count": 40,
   "metadata": {},
   "outputs": [],
   "source": [
    "from sklearn.linear_model import LogisticRegression\n",
    "from sklearn.ensemble import RandomForestClassifier\n",
    "from sklearn.neural_network import MLPClassifier\n",
    "trtr_score_lr  = LogisticRegression().fit(X_train, y_train).score(X_test, y_test)\n",
    "trtr_score_rf  = RandomForestClassifier().fit(X_train, y_train).score(X_test, y_test)\n",
    "trtr_score_mlp = MLPClassifier().fit(X_train, y_train).score(X_test, y_test)"
   ]
  },
  {
   "cell_type": "code",
   "execution_count": 41,
   "metadata": {},
   "outputs": [
    {
     "data": {
      "text/html": [
       "<div>\n",
       "<style scoped>\n",
       "    .dataframe tbody tr th:only-of-type {\n",
       "        vertical-align: middle;\n",
       "    }\n",
       "\n",
       "    .dataframe tbody tr th {\n",
       "        vertical-align: top;\n",
       "    }\n",
       "\n",
       "    .dataframe thead th {\n",
       "        text-align: right;\n",
       "    }\n",
       "</style>\n",
       "<table border=\"1\" class=\"dataframe\">\n",
       "  <thead>\n",
       "    <tr style=\"text-align: right;\">\n",
       "      <th></th>\n",
       "      <th>Evaluate Item</th>\n",
       "      <th>LR</th>\n",
       "      <th>RF</th>\n",
       "      <th>MLP</th>\n",
       "    </tr>\n",
       "  </thead>\n",
       "  <tbody>\n",
       "    <tr>\n",
       "      <th>0</th>\n",
       "      <td>TSTR</td>\n",
       "      <td>0.648148</td>\n",
       "      <td>0.776620</td>\n",
       "      <td>0.800926</td>\n",
       "    </tr>\n",
       "    <tr>\n",
       "      <th>1</th>\n",
       "      <td>TRTR</td>\n",
       "      <td>0.681713</td>\n",
       "      <td>0.946759</td>\n",
       "      <td>0.869213</td>\n",
       "    </tr>\n",
       "  </tbody>\n",
       "</table>\n",
       "</div>"
      ],
      "text/plain": [
       "  Evaluate Item        LR        RF       MLP\n",
       "0          TSTR  0.648148  0.776620  0.800926\n",
       "1          TRTR  0.681713  0.946759  0.869213"
      ]
     },
     "execution_count": 41,
     "metadata": {},
     "output_type": "execute_result"
    }
   ],
   "source": [
    "import pandas as pd\n",
    "df_evaluate = pd.DataFrame([\n",
    "    ['TSTR', acc_score_lr, acc_score_rf, acc_score_mlp],\n",
    "    ['TRTR', trtr_score_lr,trtr_score_rf,trtr_score_mlp]\n",
    "], columns=['Evaluate Item', 'LR', 'RF', 'MLP'])\n",
    "df_evaluate\n",
    "#df_evaluate.set_index('Evaluate Item')"
   ]
  }
 ],
 "metadata": {
  "kernelspec": {
   "display_name": "Python 3.9.12 ('base')",
   "language": "python",
   "name": "python3"
  },
  "language_info": {
   "codemirror_mode": {
    "name": "ipython",
    "version": 3
   },
   "file_extension": ".py",
   "mimetype": "text/x-python",
   "name": "python",
   "nbconvert_exporter": "python",
   "pygments_lexer": "ipython3",
   "version": "3.9.12"
  },
  "orig_nbformat": 4,
  "vscode": {
   "interpreter": {
    "hash": "5bbedb5fa720de9fc907ceb56d89ea952339fe8fd12ba55975f895c345e9c974"
   }
  }
 },
 "nbformat": 4,
 "nbformat_minor": 2
}
